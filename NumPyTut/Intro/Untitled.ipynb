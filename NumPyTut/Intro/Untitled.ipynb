{
 "cells": [
  {
   "cell_type": "code",
   "execution_count": 2,
   "id": "normal-subject",
   "metadata": {},
   "outputs": [],
   "source": [
    "import numpy as np"
   ]
  },
  {
   "cell_type": "code",
   "execution_count": 3,
   "id": "celtic-infection",
   "metadata": {},
   "outputs": [],
   "source": [
    "# Numpy = Numeric Python\n",
    "# ndarray = n-dim array"
   ]
  },
  {
   "cell_type": "code",
   "execution_count": 4,
   "id": "amended-jurisdiction",
   "metadata": {},
   "outputs": [],
   "source": [
    "np1 = np.array([0, 1, 2, 3, 4, 5, 6, 7, 8, 9])"
   ]
  },
  {
   "cell_type": "code",
   "execution_count": 5,
   "id": "direct-sequence",
   "metadata": {},
   "outputs": [
    {
     "data": {
      "text/plain": [
       "array([0, 1, 2, 3, 4, 5, 6, 7, 8, 9])"
      ]
     },
     "execution_count": 5,
     "metadata": {},
     "output_type": "execute_result"
    }
   ],
   "source": [
    "np1"
   ]
  },
  {
   "cell_type": "code",
   "execution_count": 8,
   "id": "automatic-brunei",
   "metadata": {},
   "outputs": [
    {
     "data": {
      "text/plain": [
       "(10,)"
      ]
     },
     "execution_count": 8,
     "metadata": {},
     "output_type": "execute_result"
    }
   ],
   "source": [
    "np1.shape # gives the number of items"
   ]
  },
  {
   "cell_type": "code",
   "execution_count": 11,
   "id": "fitting-fundamentals",
   "metadata": {},
   "outputs": [
    {
     "name": "stdout",
     "output_type": "stream",
     "text": [
      "[0 1 2 3 4 5 6 7 8 9]\n"
     ]
    }
   ],
   "source": [
    "print(np.arange(10))"
   ]
  },
  {
   "cell_type": "code",
   "execution_count": 12,
   "id": "outdoor-fluid",
   "metadata": {},
   "outputs": [
    {
     "data": {
      "text/plain": [
       "array([0, 2, 4, 6, 8])"
      ]
     },
     "execution_count": 12,
     "metadata": {},
     "output_type": "execute_result"
    }
   ],
   "source": [
    "np.arange(0, 10, 2)"
   ]
  },
  {
   "cell_type": "code",
   "execution_count": 14,
   "id": "million-medication",
   "metadata": {},
   "outputs": [],
   "source": [
    "np4 = np.zeros(10)"
   ]
  },
  {
   "cell_type": "code",
   "execution_count": 15,
   "id": "hungry-contribution",
   "metadata": {},
   "outputs": [
    {
     "data": {
      "text/plain": [
       "array([0., 0., 0., 0., 0., 0., 0., 0., 0., 0.])"
      ]
     },
     "execution_count": 15,
     "metadata": {},
     "output_type": "execute_result"
    }
   ],
   "source": [
    "np4"
   ]
  },
  {
   "cell_type": "code",
   "execution_count": 20,
   "id": "formal-hanging",
   "metadata": {},
   "outputs": [],
   "source": [
    "np5 = np.zeros((2, 10))"
   ]
  },
  {
   "cell_type": "code",
   "execution_count": 21,
   "id": "standing-values",
   "metadata": {},
   "outputs": [
    {
     "data": {
      "text/plain": [
       "array([[0., 0., 0., 0., 0., 0., 0., 0., 0., 0.],\n",
       "       [0., 0., 0., 0., 0., 0., 0., 0., 0., 0.]])"
      ]
     },
     "execution_count": 21,
     "metadata": {},
     "output_type": "execute_result"
    }
   ],
   "source": [
    "np5"
   ]
  },
  {
   "cell_type": "code",
   "execution_count": 22,
   "id": "furnished-overview",
   "metadata": {},
   "outputs": [],
   "source": [
    "np6 = np.full((10), 6)"
   ]
  },
  {
   "cell_type": "code",
   "execution_count": 23,
   "id": "square-carry",
   "metadata": {},
   "outputs": [
    {
     "data": {
      "text/plain": [
       "array([6, 6, 6, 6, 6, 6, 6, 6, 6, 6])"
      ]
     },
     "execution_count": 23,
     "metadata": {},
     "output_type": "execute_result"
    }
   ],
   "source": [
    "np6"
   ]
  },
  {
   "cell_type": "code",
   "execution_count": 24,
   "id": "superb-postage",
   "metadata": {},
   "outputs": [],
   "source": [
    "# Multidimensional Full\n",
    "np7 = np.full((2, 6), 10)"
   ]
  },
  {
   "cell_type": "code",
   "execution_count": 25,
   "id": "through-yugoslavia",
   "metadata": {},
   "outputs": [
    {
     "data": {
      "text/plain": [
       "array([[10, 10, 10, 10, 10, 10],\n",
       "       [10, 10, 10, 10, 10, 10]])"
      ]
     },
     "execution_count": 25,
     "metadata": {},
     "output_type": "execute_result"
    }
   ],
   "source": [
    "np7"
   ]
  },
  {
   "cell_type": "code",
   "execution_count": 26,
   "id": "ordinary-collapse",
   "metadata": {},
   "outputs": [],
   "source": [
    "my_list = [1, 2, 3, 4]"
   ]
  },
  {
   "cell_type": "code",
   "execution_count": 27,
   "id": "available-hopkins",
   "metadata": {},
   "outputs": [],
   "source": [
    "np8 = np.array(my_list)"
   ]
  },
  {
   "cell_type": "code",
   "execution_count": 28,
   "id": "anticipated-local",
   "metadata": {},
   "outputs": [
    {
     "data": {
      "text/plain": [
       "array([1, 2, 3, 4])"
      ]
     },
     "execution_count": 28,
     "metadata": {},
     "output_type": "execute_result"
    }
   ],
   "source": [
    "np8"
   ]
  },
  {
   "cell_type": "code",
   "execution_count": 29,
   "id": "helpful-mortality",
   "metadata": {},
   "outputs": [
    {
     "data": {
      "text/plain": [
       "2"
      ]
     },
     "execution_count": 29,
     "metadata": {},
     "output_type": "execute_result"
    }
   ],
   "source": [
    "np8[1]"
   ]
  },
  {
   "cell_type": "code",
   "execution_count": null,
   "id": "successful-relation",
   "metadata": {},
   "outputs": [],
   "source": []
  }
 ],
 "metadata": {
  "kernelspec": {
   "display_name": "Python 3 (ipykernel)",
   "language": "python",
   "name": "python3"
  },
  "language_info": {
   "codemirror_mode": {
    "name": "ipython",
    "version": 3
   },
   "file_extension": ".py",
   "mimetype": "text/x-python",
   "name": "python",
   "nbconvert_exporter": "python",
   "pygments_lexer": "ipython3",
   "version": "3.9.1"
  }
 },
 "nbformat": 4,
 "nbformat_minor": 5
}
