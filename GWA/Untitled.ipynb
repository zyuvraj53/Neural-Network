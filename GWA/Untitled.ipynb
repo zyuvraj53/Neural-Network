{
 "cells": [
  {
   "cell_type": "code",
   "execution_count": 1,
   "id": "therapeutic-comedy",
   "metadata": {},
   "outputs": [],
   "source": [
    "import pandas as pd"
   ]
  },
  {
   "cell_type": "code",
   "execution_count": 2,
   "id": "european-moderator",
   "metadata": {},
   "outputs": [],
   "source": [
    "data_with_null = pd.read_csv(\"processes_datasets.csv\")"
   ]
  },
  {
   "cell_type": "code",
   "execution_count": 3,
   "id": "governmental-slope",
   "metadata": {},
   "outputs": [
    {
     "data": {
      "text/html": [
       "<div>\n",
       "<style scoped>\n",
       "    .dataframe tbody tr th:only-of-type {\n",
       "        vertical-align: middle;\n",
       "    }\n",
       "\n",
       "    .dataframe tbody tr th {\n",
       "        vertical-align: top;\n",
       "    }\n",
       "\n",
       "    .dataframe thead th {\n",
       "        text-align: right;\n",
       "    }\n",
       "</style>\n",
       "<table border=\"1\" class=\"dataframe\">\n",
       "  <thead>\n",
       "    <tr style=\"text-align: right;\">\n",
       "      <th></th>\n",
       "      <th>JobID</th>\n",
       "      <th>SubmitTime</th>\n",
       "      <th>WaitTime</th>\n",
       "      <th>RunTime</th>\n",
       "      <th>NProcs</th>\n",
       "      <th>AverageCPUTimeUsed</th>\n",
       "      <th>Used Memory</th>\n",
       "      <th>ReqNProcs</th>\n",
       "      <th>ReqTime:</th>\n",
       "      <th>ReqMemory</th>\n",
       "      <th>...</th>\n",
       "      <th>JobStructureParams</th>\n",
       "      <th>UsedNetwork</th>\n",
       "      <th>UsedLocalDiskSpace</th>\n",
       "      <th>UsedResources</th>\n",
       "      <th>ReqPlatform</th>\n",
       "      <th>ReqNetwork</th>\n",
       "      <th>ReqLocalDiskSpace</th>\n",
       "      <th>ReqResources</th>\n",
       "      <th>VOID</th>\n",
       "      <th>ProjectID</th>\n",
       "    </tr>\n",
       "  </thead>\n",
       "  <tbody>\n",
       "    <tr>\n",
       "      <th>0</th>\n",
       "      <td>1</td>\n",
       "      <td>1136070024</td>\n",
       "      <td>203761</td>\n",
       "      <td>138467</td>\n",
       "      <td>1</td>\n",
       "      <td>138371</td>\n",
       "      <td>98652</td>\n",
       "      <td>1</td>\n",
       "      <td>259200</td>\n",
       "      <td>-1</td>\n",
       "      <td>...</td>\n",
       "      <td>-1</td>\n",
       "      <td>-1</td>\n",
       "      <td>-1</td>\n",
       "      <td>-1</td>\n",
       "      <td>-1</td>\n",
       "      <td>-1</td>\n",
       "      <td>-1</td>\n",
       "      <td>-1</td>\n",
       "      <td>-1</td>\n",
       "      <td>-1</td>\n",
       "    </tr>\n",
       "    <tr>\n",
       "      <th>1</th>\n",
       "      <td>2</td>\n",
       "      <td>1136070690</td>\n",
       "      <td>0</td>\n",
       "      <td>11</td>\n",
       "      <td>1</td>\n",
       "      <td>4</td>\n",
       "      <td>35848</td>\n",
       "      <td>1</td>\n",
       "      <td>259200</td>\n",
       "      <td>-1</td>\n",
       "      <td>...</td>\n",
       "      <td>-1</td>\n",
       "      <td>-1</td>\n",
       "      <td>-1</td>\n",
       "      <td>-1</td>\n",
       "      <td>-1</td>\n",
       "      <td>-1</td>\n",
       "      <td>-1</td>\n",
       "      <td>-1</td>\n",
       "      <td>-1</td>\n",
       "      <td>-1</td>\n",
       "    </tr>\n",
       "    <tr>\n",
       "      <th>2</th>\n",
       "      <td>3</td>\n",
       "      <td>1136071207</td>\n",
       "      <td>117</td>\n",
       "      <td>201203</td>\n",
       "      <td>1</td>\n",
       "      <td>0</td>\n",
       "      <td>0</td>\n",
       "      <td>1</td>\n",
       "      <td>259200</td>\n",
       "      <td>-1</td>\n",
       "      <td>...</td>\n",
       "      <td>-1</td>\n",
       "      <td>-1</td>\n",
       "      <td>-1</td>\n",
       "      <td>-1</td>\n",
       "      <td>-1</td>\n",
       "      <td>-1</td>\n",
       "      <td>-1</td>\n",
       "      <td>-1</td>\n",
       "      <td>-1</td>\n",
       "      <td>-1</td>\n",
       "    </tr>\n",
       "    <tr>\n",
       "      <th>3</th>\n",
       "      <td>4</td>\n",
       "      <td>1136071267</td>\n",
       "      <td>4406</td>\n",
       "      <td>196985</td>\n",
       "      <td>1</td>\n",
       "      <td>0</td>\n",
       "      <td>0</td>\n",
       "      <td>1</td>\n",
       "      <td>259200</td>\n",
       "      <td>-1</td>\n",
       "      <td>...</td>\n",
       "      <td>-1</td>\n",
       "      <td>-1</td>\n",
       "      <td>-1</td>\n",
       "      <td>-1</td>\n",
       "      <td>-1</td>\n",
       "      <td>-1</td>\n",
       "      <td>-1</td>\n",
       "      <td>-1</td>\n",
       "      <td>-1</td>\n",
       "      <td>-1</td>\n",
       "    </tr>\n",
       "    <tr>\n",
       "      <th>4</th>\n",
       "      <td>5</td>\n",
       "      <td>1136071269</td>\n",
       "      <td>202516</td>\n",
       "      <td>19520</td>\n",
       "      <td>1</td>\n",
       "      <td>18731</td>\n",
       "      <td>522268</td>\n",
       "      <td>1</td>\n",
       "      <td>259200</td>\n",
       "      <td>-1</td>\n",
       "      <td>...</td>\n",
       "      <td>-1</td>\n",
       "      <td>-1</td>\n",
       "      <td>-1</td>\n",
       "      <td>-1</td>\n",
       "      <td>-1</td>\n",
       "      <td>-1</td>\n",
       "      <td>-1</td>\n",
       "      <td>-1</td>\n",
       "      <td>-1</td>\n",
       "      <td>-1</td>\n",
       "    </tr>\n",
       "    <tr>\n",
       "      <th>...</th>\n",
       "      <td>...</td>\n",
       "      <td>...</td>\n",
       "      <td>...</td>\n",
       "      <td>...</td>\n",
       "      <td>...</td>\n",
       "      <td>...</td>\n",
       "      <td>...</td>\n",
       "      <td>...</td>\n",
       "      <td>...</td>\n",
       "      <td>...</td>\n",
       "      <td>...</td>\n",
       "      <td>...</td>\n",
       "      <td>...</td>\n",
       "      <td>...</td>\n",
       "      <td>...</td>\n",
       "      <td>...</td>\n",
       "      <td>...</td>\n",
       "      <td>...</td>\n",
       "      <td>...</td>\n",
       "      <td>...</td>\n",
       "      <td>...</td>\n",
       "    </tr>\n",
       "    <tr>\n",
       "      <th>404171</th>\n",
       "      <td>404172</td>\n",
       "      <td>1167603618</td>\n",
       "      <td>2</td>\n",
       "      <td>56</td>\n",
       "      <td>1</td>\n",
       "      <td>18</td>\n",
       "      <td>0</td>\n",
       "      <td>1</td>\n",
       "      <td>259200</td>\n",
       "      <td>-1</td>\n",
       "      <td>...</td>\n",
       "      <td>-1</td>\n",
       "      <td>-1</td>\n",
       "      <td>-1</td>\n",
       "      <td>-1</td>\n",
       "      <td>-1</td>\n",
       "      <td>-1</td>\n",
       "      <td>-1</td>\n",
       "      <td>-1</td>\n",
       "      <td>-1</td>\n",
       "      <td>-1</td>\n",
       "    </tr>\n",
       "    <tr>\n",
       "      <th>404172</th>\n",
       "      <td>404173</td>\n",
       "      <td>1167603624</td>\n",
       "      <td>1</td>\n",
       "      <td>57</td>\n",
       "      <td>1</td>\n",
       "      <td>17</td>\n",
       "      <td>61084</td>\n",
       "      <td>1</td>\n",
       "      <td>259200</td>\n",
       "      <td>-1</td>\n",
       "      <td>...</td>\n",
       "      <td>-1</td>\n",
       "      <td>-1</td>\n",
       "      <td>-1</td>\n",
       "      <td>-1</td>\n",
       "      <td>-1</td>\n",
       "      <td>-1</td>\n",
       "      <td>-1</td>\n",
       "      <td>-1</td>\n",
       "      <td>-1</td>\n",
       "      <td>-1</td>\n",
       "    </tr>\n",
       "    <tr>\n",
       "      <th>404173</th>\n",
       "      <td>404174</td>\n",
       "      <td>1167603637</td>\n",
       "      <td>1</td>\n",
       "      <td>45</td>\n",
       "      <td>1</td>\n",
       "      <td>17</td>\n",
       "      <td>0</td>\n",
       "      <td>1</td>\n",
       "      <td>259200</td>\n",
       "      <td>-1</td>\n",
       "      <td>...</td>\n",
       "      <td>-1</td>\n",
       "      <td>-1</td>\n",
       "      <td>-1</td>\n",
       "      <td>-1</td>\n",
       "      <td>-1</td>\n",
       "      <td>-1</td>\n",
       "      <td>-1</td>\n",
       "      <td>-1</td>\n",
       "      <td>-1</td>\n",
       "      <td>-1</td>\n",
       "    </tr>\n",
       "    <tr>\n",
       "      <th>404174</th>\n",
       "      <td>404175</td>\n",
       "      <td>1167603747</td>\n",
       "      <td>1</td>\n",
       "      <td>43</td>\n",
       "      <td>1</td>\n",
       "      <td>17</td>\n",
       "      <td>0</td>\n",
       "      <td>1</td>\n",
       "      <td>259200</td>\n",
       "      <td>-1</td>\n",
       "      <td>...</td>\n",
       "      <td>-1</td>\n",
       "      <td>-1</td>\n",
       "      <td>-1</td>\n",
       "      <td>-1</td>\n",
       "      <td>-1</td>\n",
       "      <td>-1</td>\n",
       "      <td>-1</td>\n",
       "      <td>-1</td>\n",
       "      <td>-1</td>\n",
       "      <td>-1</td>\n",
       "    </tr>\n",
       "    <tr>\n",
       "      <th>404175</th>\n",
       "      <td>404176</td>\n",
       "      <td>1167605790</td>\n",
       "      <td>52</td>\n",
       "      <td>-1</td>\n",
       "      <td>0</td>\n",
       "      <td>-1</td>\n",
       "      <td>-1</td>\n",
       "      <td>1</td>\n",
       "      <td>-1</td>\n",
       "      <td>-1</td>\n",
       "      <td>...</td>\n",
       "      <td>-1</td>\n",
       "      <td>-1</td>\n",
       "      <td>-1</td>\n",
       "      <td>-1</td>\n",
       "      <td>-1</td>\n",
       "      <td>-1</td>\n",
       "      <td>-1</td>\n",
       "      <td>-1</td>\n",
       "      <td>-1</td>\n",
       "      <td>-1</td>\n",
       "    </tr>\n",
       "  </tbody>\n",
       "</table>\n",
       "<p>404176 rows × 29 columns</p>\n",
       "</div>"
      ],
      "text/plain": [
       "         JobID  SubmitTime  WaitTime  RunTime   NProcs  AverageCPUTimeUsed  \\\n",
       "0            1  1136070024    203761    138467       1              138371   \n",
       "1            2  1136070690         0        11       1                   4   \n",
       "2            3  1136071207       117    201203       1                   0   \n",
       "3            4  1136071267      4406    196985       1                   0   \n",
       "4            5  1136071269    202516     19520       1               18731   \n",
       "...        ...         ...       ...       ...     ...                 ...   \n",
       "404171  404172  1167603618         2        56       1                  18   \n",
       "404172  404173  1167603624         1        57       1                  17   \n",
       "404173  404174  1167603637         1        45       1                  17   \n",
       "404174  404175  1167603747         1        43       1                  17   \n",
       "404175  404176  1167605790        52        -1       0                  -1   \n",
       "\n",
       "        Used Memory  ReqNProcs  ReqTime:   ReqMemory  ...  JobStructureParams  \\\n",
       "0             98652          1     259200         -1  ...                  -1   \n",
       "1             35848          1     259200         -1  ...                  -1   \n",
       "2                 0          1     259200         -1  ...                  -1   \n",
       "3                 0          1     259200         -1  ...                  -1   \n",
       "4            522268          1     259200         -1  ...                  -1   \n",
       "...             ...        ...        ...        ...  ...                 ...   \n",
       "404171            0          1     259200         -1  ...                  -1   \n",
       "404172        61084          1     259200         -1  ...                  -1   \n",
       "404173            0          1     259200         -1  ...                  -1   \n",
       "404174            0          1     259200         -1  ...                  -1   \n",
       "404175           -1          1         -1         -1  ...                  -1   \n",
       "\n",
       "       UsedNetwork UsedLocalDiskSpace UsedResources ReqPlatform  ReqNetwork  \\\n",
       "0               -1                 -1            -1          -1          -1   \n",
       "1               -1                 -1            -1          -1          -1   \n",
       "2               -1                 -1            -1          -1          -1   \n",
       "3               -1                 -1            -1          -1          -1   \n",
       "4               -1                 -1            -1          -1          -1   \n",
       "...            ...                ...           ...         ...         ...   \n",
       "404171          -1                 -1            -1          -1          -1   \n",
       "404172          -1                 -1            -1          -1          -1   \n",
       "404173          -1                 -1            -1          -1          -1   \n",
       "404174          -1                 -1            -1          -1          -1   \n",
       "404175          -1                 -1            -1          -1          -1   \n",
       "\n",
       "       ReqLocalDiskSpace ReqResources  VOID  ProjectID  \n",
       "0                     -1           -1    -1         -1  \n",
       "1                     -1           -1    -1         -1  \n",
       "2                     -1           -1    -1         -1  \n",
       "3                     -1           -1    -1         -1  \n",
       "4                     -1           -1    -1         -1  \n",
       "...                  ...          ...   ...        ...  \n",
       "404171                -1           -1    -1         -1  \n",
       "404172                -1           -1    -1         -1  \n",
       "404173                -1           -1    -1         -1  \n",
       "404174                -1           -1    -1         -1  \n",
       "404175                -1           -1    -1         -1  \n",
       "\n",
       "[404176 rows x 29 columns]"
      ]
     },
     "execution_count": 3,
     "metadata": {},
     "output_type": "execute_result"
    }
   ],
   "source": [
    "data_with_null"
   ]
  },
  {
   "cell_type": "code",
   "execution_count": 4,
   "id": "external-wages",
   "metadata": {},
   "outputs": [
    {
     "data": {
      "text/plain": [
       "Index(['JobID', 'SubmitTime', 'WaitTime', 'RunTime ', 'NProcs',\n",
       "       'AverageCPUTimeUsed', 'Used Memory', 'ReqNProcs', 'ReqTime: ',\n",
       "       'ReqMemory', 'Status', 'UserID', 'GroupID', 'ExecutableID', 'QueueID',\n",
       "       'PartitionID', 'OrigSiteID', 'LastRunSiteID', 'JobStructure',\n",
       "       'JobStructureParams', 'UsedNetwork', 'UsedLocalDiskSpace',\n",
       "       'UsedResources', 'ReqPlatform', 'ReqNetwork', 'ReqLocalDiskSpace',\n",
       "       'ReqResources', 'VOID', 'ProjectID'],\n",
       "      dtype='object')"
      ]
     },
     "execution_count": 4,
     "metadata": {},
     "output_type": "execute_result"
    }
   ],
   "source": [
    "data_with_null.columns"
   ]
  },
  {
   "cell_type": "markdown",
   "id": "continental-headquarters",
   "metadata": {},
   "source": [
    "#### columns 18-end has values of -1, and 11-17 has useless values"
   ]
  },
  {
   "cell_type": "code",
   "execution_count": 5,
   "id": "municipal-cross",
   "metadata": {},
   "outputs": [],
   "source": [
    "data = data_with_null.iloc[:, [0, 1, 2, 3, 4, 5, 6, 7, 8, 9, 10]].copy()"
   ]
  },
  {
   "cell_type": "code",
   "execution_count": 6,
   "id": "weighted-durham",
   "metadata": {},
   "outputs": [
    {
     "data": {
      "text/html": [
       "<div>\n",
       "<style scoped>\n",
       "    .dataframe tbody tr th:only-of-type {\n",
       "        vertical-align: middle;\n",
       "    }\n",
       "\n",
       "    .dataframe tbody tr th {\n",
       "        vertical-align: top;\n",
       "    }\n",
       "\n",
       "    .dataframe thead th {\n",
       "        text-align: right;\n",
       "    }\n",
       "</style>\n",
       "<table border=\"1\" class=\"dataframe\">\n",
       "  <thead>\n",
       "    <tr style=\"text-align: right;\">\n",
       "      <th></th>\n",
       "      <th>JobID</th>\n",
       "      <th>SubmitTime</th>\n",
       "      <th>WaitTime</th>\n",
       "      <th>RunTime</th>\n",
       "      <th>NProcs</th>\n",
       "      <th>AverageCPUTimeUsed</th>\n",
       "      <th>Used Memory</th>\n",
       "      <th>ReqNProcs</th>\n",
       "      <th>ReqTime:</th>\n",
       "      <th>ReqMemory</th>\n",
       "      <th>Status</th>\n",
       "    </tr>\n",
       "  </thead>\n",
       "  <tbody>\n",
       "    <tr>\n",
       "      <th>0</th>\n",
       "      <td>1</td>\n",
       "      <td>1136070024</td>\n",
       "      <td>203761</td>\n",
       "      <td>138467</td>\n",
       "      <td>1</td>\n",
       "      <td>138371</td>\n",
       "      <td>98652</td>\n",
       "      <td>1</td>\n",
       "      <td>259200</td>\n",
       "      <td>-1</td>\n",
       "      <td>1</td>\n",
       "    </tr>\n",
       "    <tr>\n",
       "      <th>1</th>\n",
       "      <td>2</td>\n",
       "      <td>1136070690</td>\n",
       "      <td>0</td>\n",
       "      <td>11</td>\n",
       "      <td>1</td>\n",
       "      <td>4</td>\n",
       "      <td>35848</td>\n",
       "      <td>1</td>\n",
       "      <td>259200</td>\n",
       "      <td>-1</td>\n",
       "      <td>1</td>\n",
       "    </tr>\n",
       "    <tr>\n",
       "      <th>2</th>\n",
       "      <td>3</td>\n",
       "      <td>1136071207</td>\n",
       "      <td>117</td>\n",
       "      <td>201203</td>\n",
       "      <td>1</td>\n",
       "      <td>0</td>\n",
       "      <td>0</td>\n",
       "      <td>1</td>\n",
       "      <td>259200</td>\n",
       "      <td>-1</td>\n",
       "      <td>1</td>\n",
       "    </tr>\n",
       "    <tr>\n",
       "      <th>3</th>\n",
       "      <td>4</td>\n",
       "      <td>1136071267</td>\n",
       "      <td>4406</td>\n",
       "      <td>196985</td>\n",
       "      <td>1</td>\n",
       "      <td>0</td>\n",
       "      <td>0</td>\n",
       "      <td>1</td>\n",
       "      <td>259200</td>\n",
       "      <td>-1</td>\n",
       "      <td>1</td>\n",
       "    </tr>\n",
       "    <tr>\n",
       "      <th>4</th>\n",
       "      <td>5</td>\n",
       "      <td>1136071269</td>\n",
       "      <td>202516</td>\n",
       "      <td>19520</td>\n",
       "      <td>1</td>\n",
       "      <td>18731</td>\n",
       "      <td>522268</td>\n",
       "      <td>1</td>\n",
       "      <td>259200</td>\n",
       "      <td>-1</td>\n",
       "      <td>1</td>\n",
       "    </tr>\n",
       "    <tr>\n",
       "      <th>...</th>\n",
       "      <td>...</td>\n",
       "      <td>...</td>\n",
       "      <td>...</td>\n",
       "      <td>...</td>\n",
       "      <td>...</td>\n",
       "      <td>...</td>\n",
       "      <td>...</td>\n",
       "      <td>...</td>\n",
       "      <td>...</td>\n",
       "      <td>...</td>\n",
       "      <td>...</td>\n",
       "    </tr>\n",
       "    <tr>\n",
       "      <th>404171</th>\n",
       "      <td>404172</td>\n",
       "      <td>1167603618</td>\n",
       "      <td>2</td>\n",
       "      <td>56</td>\n",
       "      <td>1</td>\n",
       "      <td>18</td>\n",
       "      <td>0</td>\n",
       "      <td>1</td>\n",
       "      <td>259200</td>\n",
       "      <td>-1</td>\n",
       "      <td>1</td>\n",
       "    </tr>\n",
       "    <tr>\n",
       "      <th>404172</th>\n",
       "      <td>404173</td>\n",
       "      <td>1167603624</td>\n",
       "      <td>1</td>\n",
       "      <td>57</td>\n",
       "      <td>1</td>\n",
       "      <td>17</td>\n",
       "      <td>61084</td>\n",
       "      <td>1</td>\n",
       "      <td>259200</td>\n",
       "      <td>-1</td>\n",
       "      <td>1</td>\n",
       "    </tr>\n",
       "    <tr>\n",
       "      <th>404173</th>\n",
       "      <td>404174</td>\n",
       "      <td>1167603637</td>\n",
       "      <td>1</td>\n",
       "      <td>45</td>\n",
       "      <td>1</td>\n",
       "      <td>17</td>\n",
       "      <td>0</td>\n",
       "      <td>1</td>\n",
       "      <td>259200</td>\n",
       "      <td>-1</td>\n",
       "      <td>1</td>\n",
       "    </tr>\n",
       "    <tr>\n",
       "      <th>404174</th>\n",
       "      <td>404175</td>\n",
       "      <td>1167603747</td>\n",
       "      <td>1</td>\n",
       "      <td>43</td>\n",
       "      <td>1</td>\n",
       "      <td>17</td>\n",
       "      <td>0</td>\n",
       "      <td>1</td>\n",
       "      <td>259200</td>\n",
       "      <td>-1</td>\n",
       "      <td>1</td>\n",
       "    </tr>\n",
       "    <tr>\n",
       "      <th>404175</th>\n",
       "      <td>404176</td>\n",
       "      <td>1167605790</td>\n",
       "      <td>52</td>\n",
       "      <td>-1</td>\n",
       "      <td>0</td>\n",
       "      <td>-1</td>\n",
       "      <td>-1</td>\n",
       "      <td>1</td>\n",
       "      <td>-1</td>\n",
       "      <td>-1</td>\n",
       "      <td>5</td>\n",
       "    </tr>\n",
       "  </tbody>\n",
       "</table>\n",
       "<p>404176 rows × 11 columns</p>\n",
       "</div>"
      ],
      "text/plain": [
       "         JobID  SubmitTime  WaitTime  RunTime   NProcs  AverageCPUTimeUsed  \\\n",
       "0            1  1136070024    203761    138467       1              138371   \n",
       "1            2  1136070690         0        11       1                   4   \n",
       "2            3  1136071207       117    201203       1                   0   \n",
       "3            4  1136071267      4406    196985       1                   0   \n",
       "4            5  1136071269    202516     19520       1               18731   \n",
       "...        ...         ...       ...       ...     ...                 ...   \n",
       "404171  404172  1167603618         2        56       1                  18   \n",
       "404172  404173  1167603624         1        57       1                  17   \n",
       "404173  404174  1167603637         1        45       1                  17   \n",
       "404174  404175  1167603747         1        43       1                  17   \n",
       "404175  404176  1167605790        52        -1       0                  -1   \n",
       "\n",
       "        Used Memory  ReqNProcs  ReqTime:   ReqMemory  Status  \n",
       "0             98652          1     259200         -1       1  \n",
       "1             35848          1     259200         -1       1  \n",
       "2                 0          1     259200         -1       1  \n",
       "3                 0          1     259200         -1       1  \n",
       "4            522268          1     259200         -1       1  \n",
       "...             ...        ...        ...        ...     ...  \n",
       "404171            0          1     259200         -1       1  \n",
       "404172        61084          1     259200         -1       1  \n",
       "404173            0          1     259200         -1       1  \n",
       "404174            0          1     259200         -1       1  \n",
       "404175           -1          1         -1         -1       5  \n",
       "\n",
       "[404176 rows x 11 columns]"
      ]
     },
     "execution_count": 6,
     "metadata": {},
     "output_type": "execute_result"
    }
   ],
   "source": [
    "data"
   ]
  },
  {
   "cell_type": "markdown",
   "id": "tropical-bullet",
   "metadata": {},
   "source": [
    "#### We should delete columns which have many -1 or null values\n",
    "##### I used http://gwa.ewi.tudelft.nl/datasets/gwa-t-4-auvergrid/report/ to see what the values were"
   ]
  },
  {
   "cell_type": "code",
   "execution_count": 7,
   "id": "collective-swaziland",
   "metadata": {},
   "outputs": [],
   "source": [
    "def return_percent(col, check):\n",
    "    cnt = 0\n",
    "\n",
    "    for i in range(0, len(data[col])):\n",
    "        if data[col][i] == check:\n",
    "            cnt += 1\n",
    "\n",
    "    return (cnt, cnt/len(data[col]))"
   ]
  },
  {
   "cell_type": "code",
   "execution_count": 8,
   "id": "external-baptist",
   "metadata": {},
   "outputs": [],
   "source": [
    "def return_percent_less_than(col, check):\n",
    "    cnt = 0\n",
    "\n",
    "    for i in range(0, len(data[col])):\n",
    "        if data[col][i] < check:\n",
    "            cnt += 1\n",
    "\n",
    "    return (cnt, cnt/len(data[col]))"
   ]
  },
  {
   "cell_type": "code",
   "execution_count": 9,
   "id": "violent-replication",
   "metadata": {},
   "outputs": [],
   "source": [
    "def change_value(col, to_change, change):\n",
    "    \n",
    "    for i in range(0, len(data[col])):\n",
    "        if data[col][i] == to_change:\n",
    "            data[col][i] = change"
   ]
  },
  {
   "cell_type": "code",
   "execution_count": 10,
   "id": "exempt-links",
   "metadata": {},
   "outputs": [],
   "source": [
    "def change_value_less_than(col, check, change):\n",
    "    \n",
    "    for i in range(0, len(data[col])):\n",
    "        if data[col][i] < check:\n",
    "            data[col][i] = change"
   ]
  },
  {
   "cell_type": "code",
   "execution_count": 11,
   "id": "center-bangkok",
   "metadata": {},
   "outputs": [
    {
     "data": {
      "text/html": [
       "<div>\n",
       "<style scoped>\n",
       "    .dataframe tbody tr th:only-of-type {\n",
       "        vertical-align: middle;\n",
       "    }\n",
       "\n",
       "    .dataframe tbody tr th {\n",
       "        vertical-align: top;\n",
       "    }\n",
       "\n",
       "    .dataframe thead th {\n",
       "        text-align: right;\n",
       "    }\n",
       "</style>\n",
       "<table border=\"1\" class=\"dataframe\">\n",
       "  <thead>\n",
       "    <tr style=\"text-align: right;\">\n",
       "      <th></th>\n",
       "      <th>JobID</th>\n",
       "      <th>SubmitTime</th>\n",
       "      <th>WaitTime</th>\n",
       "      <th>RunTime</th>\n",
       "      <th>NProcs</th>\n",
       "      <th>AverageCPUTimeUsed</th>\n",
       "      <th>Used Memory</th>\n",
       "      <th>ReqNProcs</th>\n",
       "      <th>ReqTime:</th>\n",
       "      <th>ReqMemory</th>\n",
       "      <th>Status</th>\n",
       "    </tr>\n",
       "  </thead>\n",
       "  <tbody>\n",
       "    <tr>\n",
       "      <th>JobID</th>\n",
       "      <td>1.000000</td>\n",
       "      <td>0.995078</td>\n",
       "      <td>0.050502</td>\n",
       "      <td>0.061998</td>\n",
       "      <td>-0.211346</td>\n",
       "      <td>0.057560</td>\n",
       "      <td>0.080842</td>\n",
       "      <td>NaN</td>\n",
       "      <td>-0.107677</td>\n",
       "      <td>-0.153945</td>\n",
       "      <td>0.218357</td>\n",
       "    </tr>\n",
       "    <tr>\n",
       "      <th>SubmitTime</th>\n",
       "      <td>0.995078</td>\n",
       "      <td>1.000000</td>\n",
       "      <td>0.049792</td>\n",
       "      <td>0.055988</td>\n",
       "      <td>-0.217646</td>\n",
       "      <td>0.051565</td>\n",
       "      <td>0.078524</td>\n",
       "      <td>NaN</td>\n",
       "      <td>-0.116449</td>\n",
       "      <td>-0.138871</td>\n",
       "      <td>0.224416</td>\n",
       "    </tr>\n",
       "    <tr>\n",
       "      <th>WaitTime</th>\n",
       "      <td>0.050502</td>\n",
       "      <td>0.049792</td>\n",
       "      <td>1.000000</td>\n",
       "      <td>0.082618</td>\n",
       "      <td>-0.009370</td>\n",
       "      <td>0.094106</td>\n",
       "      <td>0.037051</td>\n",
       "      <td>NaN</td>\n",
       "      <td>0.001670</td>\n",
       "      <td>0.028085</td>\n",
       "      <td>0.010322</td>\n",
       "    </tr>\n",
       "    <tr>\n",
       "      <th>RunTime</th>\n",
       "      <td>0.061998</td>\n",
       "      <td>0.055988</td>\n",
       "      <td>0.082618</td>\n",
       "      <td>1.000000</td>\n",
       "      <td>0.225126</td>\n",
       "      <td>0.864234</td>\n",
       "      <td>0.419717</td>\n",
       "      <td>NaN</td>\n",
       "      <td>0.274379</td>\n",
       "      <td>-0.017943</td>\n",
       "      <td>-0.242107</td>\n",
       "    </tr>\n",
       "    <tr>\n",
       "      <th>NProcs</th>\n",
       "      <td>-0.211346</td>\n",
       "      <td>-0.217646</td>\n",
       "      <td>-0.009370</td>\n",
       "      <td>0.225126</td>\n",
       "      <td>1.000000</td>\n",
       "      <td>0.230745</td>\n",
       "      <td>0.306838</td>\n",
       "      <td>NaN</td>\n",
       "      <td>0.814846</td>\n",
       "      <td>0.124508</td>\n",
       "      <td>-0.934946</td>\n",
       "    </tr>\n",
       "    <tr>\n",
       "      <th>AverageCPUTimeUsed</th>\n",
       "      <td>0.057560</td>\n",
       "      <td>0.051565</td>\n",
       "      <td>0.094106</td>\n",
       "      <td>0.864234</td>\n",
       "      <td>0.230745</td>\n",
       "      <td>1.000000</td>\n",
       "      <td>0.447703</td>\n",
       "      <td>NaN</td>\n",
       "      <td>0.290692</td>\n",
       "      <td>-0.009307</td>\n",
       "      <td>-0.244891</td>\n",
       "    </tr>\n",
       "    <tr>\n",
       "      <th>Used Memory</th>\n",
       "      <td>0.080842</td>\n",
       "      <td>0.078524</td>\n",
       "      <td>0.037051</td>\n",
       "      <td>0.419717</td>\n",
       "      <td>0.306838</td>\n",
       "      <td>0.447703</td>\n",
       "      <td>1.000000</td>\n",
       "      <td>NaN</td>\n",
       "      <td>0.244945</td>\n",
       "      <td>0.175678</td>\n",
       "      <td>-0.248276</td>\n",
       "    </tr>\n",
       "    <tr>\n",
       "      <th>ReqNProcs</th>\n",
       "      <td>NaN</td>\n",
       "      <td>NaN</td>\n",
       "      <td>NaN</td>\n",
       "      <td>NaN</td>\n",
       "      <td>NaN</td>\n",
       "      <td>NaN</td>\n",
       "      <td>NaN</td>\n",
       "      <td>NaN</td>\n",
       "      <td>NaN</td>\n",
       "      <td>NaN</td>\n",
       "      <td>NaN</td>\n",
       "    </tr>\n",
       "    <tr>\n",
       "      <th>ReqTime:</th>\n",
       "      <td>-0.107677</td>\n",
       "      <td>-0.116449</td>\n",
       "      <td>0.001670</td>\n",
       "      <td>0.274379</td>\n",
       "      <td>0.814846</td>\n",
       "      <td>0.290692</td>\n",
       "      <td>0.244945</td>\n",
       "      <td>NaN</td>\n",
       "      <td>1.000000</td>\n",
       "      <td>-0.008853</td>\n",
       "      <td>-0.790733</td>\n",
       "    </tr>\n",
       "    <tr>\n",
       "      <th>ReqMemory</th>\n",
       "      <td>-0.153945</td>\n",
       "      <td>-0.138871</td>\n",
       "      <td>0.028085</td>\n",
       "      <td>-0.017943</td>\n",
       "      <td>0.124508</td>\n",
       "      <td>-0.009307</td>\n",
       "      <td>0.175678</td>\n",
       "      <td>NaN</td>\n",
       "      <td>-0.008853</td>\n",
       "      <td>1.000000</td>\n",
       "      <td>-0.092151</td>\n",
       "    </tr>\n",
       "    <tr>\n",
       "      <th>Status</th>\n",
       "      <td>0.218357</td>\n",
       "      <td>0.224416</td>\n",
       "      <td>0.010322</td>\n",
       "      <td>-0.242107</td>\n",
       "      <td>-0.934946</td>\n",
       "      <td>-0.244891</td>\n",
       "      <td>-0.248276</td>\n",
       "      <td>NaN</td>\n",
       "      <td>-0.790733</td>\n",
       "      <td>-0.092151</td>\n",
       "      <td>1.000000</td>\n",
       "    </tr>\n",
       "  </tbody>\n",
       "</table>\n",
       "</div>"
      ],
      "text/plain": [
       "                       JobID  SubmitTime  WaitTime  RunTime     NProcs  \\\n",
       "JobID               1.000000    0.995078  0.050502  0.061998 -0.211346   \n",
       "SubmitTime          0.995078    1.000000  0.049792  0.055988 -0.217646   \n",
       "WaitTime            0.050502    0.049792  1.000000  0.082618 -0.009370   \n",
       "RunTime             0.061998    0.055988  0.082618  1.000000  0.225126   \n",
       "NProcs             -0.211346   -0.217646 -0.009370  0.225126  1.000000   \n",
       "AverageCPUTimeUsed  0.057560    0.051565  0.094106  0.864234  0.230745   \n",
       "Used Memory         0.080842    0.078524  0.037051  0.419717  0.306838   \n",
       "ReqNProcs                NaN         NaN       NaN       NaN       NaN   \n",
       "ReqTime:           -0.107677   -0.116449  0.001670  0.274379  0.814846   \n",
       "ReqMemory          -0.153945   -0.138871  0.028085 -0.017943  0.124508   \n",
       "Status              0.218357    0.224416  0.010322 -0.242107 -0.934946   \n",
       "\n",
       "                    AverageCPUTimeUsed  Used Memory  ReqNProcs  ReqTime:   \\\n",
       "JobID                         0.057560     0.080842        NaN  -0.107677   \n",
       "SubmitTime                    0.051565     0.078524        NaN  -0.116449   \n",
       "WaitTime                      0.094106     0.037051        NaN   0.001670   \n",
       "RunTime                       0.864234     0.419717        NaN   0.274379   \n",
       "NProcs                        0.230745     0.306838        NaN   0.814846   \n",
       "AverageCPUTimeUsed            1.000000     0.447703        NaN   0.290692   \n",
       "Used Memory                   0.447703     1.000000        NaN   0.244945   \n",
       "ReqNProcs                          NaN          NaN        NaN        NaN   \n",
       "ReqTime:                      0.290692     0.244945        NaN   1.000000   \n",
       "ReqMemory                    -0.009307     0.175678        NaN  -0.008853   \n",
       "Status                       -0.244891    -0.248276        NaN  -0.790733   \n",
       "\n",
       "                    ReqMemory    Status  \n",
       "JobID               -0.153945  0.218357  \n",
       "SubmitTime          -0.138871  0.224416  \n",
       "WaitTime             0.028085  0.010322  \n",
       "RunTime             -0.017943 -0.242107  \n",
       "NProcs               0.124508 -0.934946  \n",
       "AverageCPUTimeUsed  -0.009307 -0.244891  \n",
       "Used Memory          0.175678 -0.248276  \n",
       "ReqNProcs                 NaN       NaN  \n",
       "ReqTime:            -0.008853 -0.790733  \n",
       "ReqMemory            1.000000 -0.092151  \n",
       "Status              -0.092151  1.000000  "
      ]
     },
     "execution_count": 11,
     "metadata": {},
     "output_type": "execute_result"
    }
   ],
   "source": [
    "data.corr()"
   ]
  },
  {
   "cell_type": "code",
   "execution_count": 12,
   "id": "wound-touch",
   "metadata": {},
   "outputs": [
    {
     "data": {
      "text/plain": [
       "((0, 0.0), (368345, 0.9113480266022723))"
      ]
     },
     "execution_count": 12,
     "metadata": {},
     "output_type": "execute_result"
    }
   ],
   "source": [
    "return_percent('ReqMemory', 0), return_percent('ReqMemory', -1)"
   ]
  },
  {
   "cell_type": "markdown",
   "id": "numeric-obligation",
   "metadata": {},
   "source": [
    "#### I will be removing ReqMemory as it contains too many NULL values"
   ]
  },
  {
   "cell_type": "code",
   "execution_count": 13,
   "id": "serial-springfield",
   "metadata": {},
   "outputs": [
    {
     "data": {
      "text/plain": [
       "((73156, 0.1810003562804323), (56565, 0.13995140730770753))"
      ]
     },
     "execution_count": 13,
     "metadata": {},
     "output_type": "execute_result"
    }
   ],
   "source": [
    "return_percent('Used Memory', 0), return_percent('Used Memory', -1)"
   ]
  },
  {
   "cell_type": "markdown",
   "id": "upper-trash",
   "metadata": {},
   "source": [
    "#### Used memory has a high correlation, so -1 are changed to 0"
   ]
  },
  {
   "cell_type": "code",
   "execution_count": 14,
   "id": "conscious-protein",
   "metadata": {},
   "outputs": [
    {
     "data": {
      "text/plain": [
       "((0, 0.0), (56565, 0.13995140730770753))"
      ]
     },
     "execution_count": 14,
     "metadata": {},
     "output_type": "execute_result"
    }
   ],
   "source": [
    "return_percent('ReqTime: ', 0), return_percent('ReqTime: ', -1)"
   ]
  },
  {
   "cell_type": "markdown",
   "id": "falling-pasta",
   "metadata": {},
   "source": [
    "#### ReqTime: also has a somewhat good correlation, so -1 are changed to 0"
   ]
  },
  {
   "cell_type": "code",
   "execution_count": 15,
   "id": "violent-sucking",
   "metadata": {},
   "outputs": [
    {
     "data": {
      "text/plain": [
       "(404176, 1.0)"
      ]
     },
     "execution_count": 15,
     "metadata": {},
     "output_type": "execute_result"
    }
   ],
   "source": [
    "return_percent('ReqNProcs', 1)"
   ]
  },
  {
   "cell_type": "markdown",
   "id": "unsigned-colony",
   "metadata": {},
   "source": [
    "#### The AuverGrid only has 1 processor, so both ReqNProcs, and NProcs are 1, so both are dropped"
   ]
  },
  {
   "cell_type": "code",
   "execution_count": 16,
   "id": "requested-ocean",
   "metadata": {},
   "outputs": [
    {
     "data": {
      "text/plain": [
       "((56565, 0.13995140730770753),\n",
       " (0, 0.0),\n",
       " (347611, 0.8600485926922925),\n",
       " (56565, 0.13995140730770753, 347611, 0.8600485926922925))"
      ]
     },
     "execution_count": 16,
     "metadata": {},
     "output_type": "execute_result"
    }
   ],
   "source": [
    "return_percent('NProcs', 0), return_percent('NProcs', -1), return_percent('NProcs', 1), return_percent('NProcs', 0) + return_percent('NProcs', 1)"
   ]
  },
  {
   "cell_type": "markdown",
   "id": "falling-austin",
   "metadata": {},
   "source": [
    "#### I will also be dropping JobID and Status as it does not serve us a purpose"
   ]
  },
  {
   "cell_type": "code",
   "execution_count": 17,
   "id": "gross-chain",
   "metadata": {},
   "outputs": [],
   "source": [
    "data = data_with_null.iloc[:, [1, 2, 3, 5, 6, 8]].copy()"
   ]
  },
  {
   "cell_type": "code",
   "execution_count": 18,
   "id": "textile-surname",
   "metadata": {},
   "outputs": [
    {
     "data": {
      "text/html": [
       "<div>\n",
       "<style scoped>\n",
       "    .dataframe tbody tr th:only-of-type {\n",
       "        vertical-align: middle;\n",
       "    }\n",
       "\n",
       "    .dataframe tbody tr th {\n",
       "        vertical-align: top;\n",
       "    }\n",
       "\n",
       "    .dataframe thead th {\n",
       "        text-align: right;\n",
       "    }\n",
       "</style>\n",
       "<table border=\"1\" class=\"dataframe\">\n",
       "  <thead>\n",
       "    <tr style=\"text-align: right;\">\n",
       "      <th></th>\n",
       "      <th>SubmitTime</th>\n",
       "      <th>WaitTime</th>\n",
       "      <th>RunTime</th>\n",
       "      <th>AverageCPUTimeUsed</th>\n",
       "      <th>Used Memory</th>\n",
       "      <th>ReqTime:</th>\n",
       "    </tr>\n",
       "  </thead>\n",
       "  <tbody>\n",
       "    <tr>\n",
       "      <th>0</th>\n",
       "      <td>1136070024</td>\n",
       "      <td>203761</td>\n",
       "      <td>138467</td>\n",
       "      <td>138371</td>\n",
       "      <td>98652</td>\n",
       "      <td>259200</td>\n",
       "    </tr>\n",
       "    <tr>\n",
       "      <th>1</th>\n",
       "      <td>1136070690</td>\n",
       "      <td>0</td>\n",
       "      <td>11</td>\n",
       "      <td>4</td>\n",
       "      <td>35848</td>\n",
       "      <td>259200</td>\n",
       "    </tr>\n",
       "    <tr>\n",
       "      <th>2</th>\n",
       "      <td>1136071207</td>\n",
       "      <td>117</td>\n",
       "      <td>201203</td>\n",
       "      <td>0</td>\n",
       "      <td>0</td>\n",
       "      <td>259200</td>\n",
       "    </tr>\n",
       "    <tr>\n",
       "      <th>3</th>\n",
       "      <td>1136071267</td>\n",
       "      <td>4406</td>\n",
       "      <td>196985</td>\n",
       "      <td>0</td>\n",
       "      <td>0</td>\n",
       "      <td>259200</td>\n",
       "    </tr>\n",
       "    <tr>\n",
       "      <th>4</th>\n",
       "      <td>1136071269</td>\n",
       "      <td>202516</td>\n",
       "      <td>19520</td>\n",
       "      <td>18731</td>\n",
       "      <td>522268</td>\n",
       "      <td>259200</td>\n",
       "    </tr>\n",
       "    <tr>\n",
       "      <th>...</th>\n",
       "      <td>...</td>\n",
       "      <td>...</td>\n",
       "      <td>...</td>\n",
       "      <td>...</td>\n",
       "      <td>...</td>\n",
       "      <td>...</td>\n",
       "    </tr>\n",
       "    <tr>\n",
       "      <th>404171</th>\n",
       "      <td>1167603618</td>\n",
       "      <td>2</td>\n",
       "      <td>56</td>\n",
       "      <td>18</td>\n",
       "      <td>0</td>\n",
       "      <td>259200</td>\n",
       "    </tr>\n",
       "    <tr>\n",
       "      <th>404172</th>\n",
       "      <td>1167603624</td>\n",
       "      <td>1</td>\n",
       "      <td>57</td>\n",
       "      <td>17</td>\n",
       "      <td>61084</td>\n",
       "      <td>259200</td>\n",
       "    </tr>\n",
       "    <tr>\n",
       "      <th>404173</th>\n",
       "      <td>1167603637</td>\n",
       "      <td>1</td>\n",
       "      <td>45</td>\n",
       "      <td>17</td>\n",
       "      <td>0</td>\n",
       "      <td>259200</td>\n",
       "    </tr>\n",
       "    <tr>\n",
       "      <th>404174</th>\n",
       "      <td>1167603747</td>\n",
       "      <td>1</td>\n",
       "      <td>43</td>\n",
       "      <td>17</td>\n",
       "      <td>0</td>\n",
       "      <td>259200</td>\n",
       "    </tr>\n",
       "    <tr>\n",
       "      <th>404175</th>\n",
       "      <td>1167605790</td>\n",
       "      <td>52</td>\n",
       "      <td>-1</td>\n",
       "      <td>-1</td>\n",
       "      <td>-1</td>\n",
       "      <td>-1</td>\n",
       "    </tr>\n",
       "  </tbody>\n",
       "</table>\n",
       "<p>404176 rows × 6 columns</p>\n",
       "</div>"
      ],
      "text/plain": [
       "        SubmitTime  WaitTime  RunTime   AverageCPUTimeUsed  Used Memory  \\\n",
       "0       1136070024    203761    138467              138371        98652   \n",
       "1       1136070690         0        11                   4        35848   \n",
       "2       1136071207       117    201203                   0            0   \n",
       "3       1136071267      4406    196985                   0            0   \n",
       "4       1136071269    202516     19520               18731       522268   \n",
       "...            ...       ...       ...                 ...          ...   \n",
       "404171  1167603618         2        56                  18            0   \n",
       "404172  1167603624         1        57                  17        61084   \n",
       "404173  1167603637         1        45                  17            0   \n",
       "404174  1167603747         1        43                  17            0   \n",
       "404175  1167605790        52        -1                  -1           -1   \n",
       "\n",
       "        ReqTime:   \n",
       "0          259200  \n",
       "1          259200  \n",
       "2          259200  \n",
       "3          259200  \n",
       "4          259200  \n",
       "...           ...  \n",
       "404171     259200  \n",
       "404172     259200  \n",
       "404173     259200  \n",
       "404174     259200  \n",
       "404175         -1  \n",
       "\n",
       "[404176 rows x 6 columns]"
      ]
     },
     "execution_count": 18,
     "metadata": {},
     "output_type": "execute_result"
    }
   ],
   "source": [
    "data"
   ]
  },
  {
   "cell_type": "code",
   "execution_count": 19,
   "id": "front-questionnaire",
   "metadata": {},
   "outputs": [
    {
     "data": {
      "text/html": [
       "<div>\n",
       "<style scoped>\n",
       "    .dataframe tbody tr th:only-of-type {\n",
       "        vertical-align: middle;\n",
       "    }\n",
       "\n",
       "    .dataframe tbody tr th {\n",
       "        vertical-align: top;\n",
       "    }\n",
       "\n",
       "    .dataframe thead th {\n",
       "        text-align: right;\n",
       "    }\n",
       "</style>\n",
       "<table border=\"1\" class=\"dataframe\">\n",
       "  <thead>\n",
       "    <tr style=\"text-align: right;\">\n",
       "      <th></th>\n",
       "      <th>SubmitTime</th>\n",
       "      <th>WaitTime</th>\n",
       "      <th>RunTime</th>\n",
       "      <th>AverageCPUTimeUsed</th>\n",
       "      <th>Used Memory</th>\n",
       "      <th>ReqTime:</th>\n",
       "    </tr>\n",
       "  </thead>\n",
       "  <tbody>\n",
       "    <tr>\n",
       "      <th>SubmitTime</th>\n",
       "      <td>1.000000</td>\n",
       "      <td>0.049792</td>\n",
       "      <td>0.055988</td>\n",
       "      <td>0.051565</td>\n",
       "      <td>0.078524</td>\n",
       "      <td>-0.116449</td>\n",
       "    </tr>\n",
       "    <tr>\n",
       "      <th>WaitTime</th>\n",
       "      <td>0.049792</td>\n",
       "      <td>1.000000</td>\n",
       "      <td>0.082618</td>\n",
       "      <td>0.094106</td>\n",
       "      <td>0.037051</td>\n",
       "      <td>0.001670</td>\n",
       "    </tr>\n",
       "    <tr>\n",
       "      <th>RunTime</th>\n",
       "      <td>0.055988</td>\n",
       "      <td>0.082618</td>\n",
       "      <td>1.000000</td>\n",
       "      <td>0.864234</td>\n",
       "      <td>0.419717</td>\n",
       "      <td>0.274379</td>\n",
       "    </tr>\n",
       "    <tr>\n",
       "      <th>AverageCPUTimeUsed</th>\n",
       "      <td>0.051565</td>\n",
       "      <td>0.094106</td>\n",
       "      <td>0.864234</td>\n",
       "      <td>1.000000</td>\n",
       "      <td>0.447703</td>\n",
       "      <td>0.290692</td>\n",
       "    </tr>\n",
       "    <tr>\n",
       "      <th>Used Memory</th>\n",
       "      <td>0.078524</td>\n",
       "      <td>0.037051</td>\n",
       "      <td>0.419717</td>\n",
       "      <td>0.447703</td>\n",
       "      <td>1.000000</td>\n",
       "      <td>0.244945</td>\n",
       "    </tr>\n",
       "    <tr>\n",
       "      <th>ReqTime:</th>\n",
       "      <td>-0.116449</td>\n",
       "      <td>0.001670</td>\n",
       "      <td>0.274379</td>\n",
       "      <td>0.290692</td>\n",
       "      <td>0.244945</td>\n",
       "      <td>1.000000</td>\n",
       "    </tr>\n",
       "  </tbody>\n",
       "</table>\n",
       "</div>"
      ],
      "text/plain": [
       "                    SubmitTime  WaitTime  RunTime   AverageCPUTimeUsed  \\\n",
       "SubmitTime            1.000000  0.049792  0.055988            0.051565   \n",
       "WaitTime              0.049792  1.000000  0.082618            0.094106   \n",
       "RunTime               0.055988  0.082618  1.000000            0.864234   \n",
       "AverageCPUTimeUsed    0.051565  0.094106  0.864234            1.000000   \n",
       "Used Memory           0.078524  0.037051  0.419717            0.447703   \n",
       "ReqTime:             -0.116449  0.001670  0.274379            0.290692   \n",
       "\n",
       "                    Used Memory  ReqTime:   \n",
       "SubmitTime             0.078524  -0.116449  \n",
       "WaitTime               0.037051   0.001670  \n",
       "RunTime                0.419717   0.274379  \n",
       "AverageCPUTimeUsed     0.447703   0.290692  \n",
       "Used Memory            1.000000   0.244945  \n",
       "ReqTime:               0.244945   1.000000  "
      ]
     },
     "execution_count": 19,
     "metadata": {},
     "output_type": "execute_result"
    }
   ],
   "source": [
    "data.corr()"
   ]
  },
  {
   "cell_type": "code",
   "execution_count": 20,
   "id": "assigned-riding",
   "metadata": {},
   "outputs": [
    {
     "data": {
      "text/plain": [
       "(251533, 0.622335319266854)"
      ]
     },
     "execution_count": 20,
     "metadata": {},
     "output_type": "execute_result"
    }
   ],
   "source": [
    "return_percent('ReqTime: ', 259200)"
   ]
  },
  {
   "cell_type": "code",
   "execution_count": 21,
   "id": "tamil-updating",
   "metadata": {},
   "outputs": [
    {
     "data": {
      "text/plain": [
       "<AxesSubplot:>"
      ]
     },
     "execution_count": 21,
     "metadata": {},
     "output_type": "execute_result"
    },
    {
     "data": {
      "image/png": "[encoded data removed]",
      "text/plain": [
       "<Figure size 640x480 with 1 Axes>"
      ]
     },
     "metadata": {},
     "output_type": "display_data"
    }
   ],
   "source": [
    "data['RunTime '].plot()"
   ]
  },
  {
   "cell_type": "code",
   "execution_count": 22,
   "id": "continued-lloyd",
   "metadata": {},
   "outputs": [
    {
     "data": {
      "text/plain": [
       "(56565, 0.13995140730770753)"
      ]
     },
     "execution_count": 22,
     "metadata": {},
     "output_type": "execute_result"
    }
   ],
   "source": [
    "return_percent('ReqTime: ', -1)"
   ]
  },
  {
   "cell_type": "code",
   "execution_count": 23,
   "id": "finnish-shift",
   "metadata": {},
   "outputs": [
    {
     "data": {
      "text/plain": [
       "(56565, 0.13995140730770753)"
      ]
     },
     "execution_count": 23,
     "metadata": {},
     "output_type": "execute_result"
    }
   ],
   "source": [
    "return_percent_less_than('ReqTime: ', 0)"
   ]
  },
  {
   "cell_type": "code",
   "execution_count": 24,
   "id": "original-rochester",
   "metadata": {},
   "outputs": [],
   "source": [
    "change_value('ReqTime: ', -1, 0)"
   ]
  },
  {
   "cell_type": "markdown",
   "id": "solar-seminar",
   "metadata": {},
   "source": [
    "### Values for ReqTime: have been adjusted"
   ]
  },
  {
   "cell_type": "code",
   "execution_count": 25,
   "id": "offensive-extent",
   "metadata": {},
   "outputs": [
    {
     "data": {
      "text/plain": [
       "(0, 0.0)"
      ]
     },
     "execution_count": 25,
     "metadata": {},
     "output_type": "execute_result"
    }
   ],
   "source": [
    "return_percent('ReqTime: ', -1)"
   ]
  },
  {
   "cell_type": "code",
   "execution_count": 26,
   "id": "radio-parade",
   "metadata": {},
   "outputs": [
    {
     "data": {
      "text/html": [
       "<div>\n",
       "<style scoped>\n",
       "    .dataframe tbody tr th:only-of-type {\n",
       "        vertical-align: middle;\n",
       "    }\n",
       "\n",
       "    .dataframe tbody tr th {\n",
       "        vertical-align: top;\n",
       "    }\n",
       "\n",
       "    .dataframe thead th {\n",
       "        text-align: right;\n",
       "    }\n",
       "</style>\n",
       "<table border=\"1\" class=\"dataframe\">\n",
       "  <thead>\n",
       "    <tr style=\"text-align: right;\">\n",
       "      <th></th>\n",
       "      <th>SubmitTime</th>\n",
       "      <th>WaitTime</th>\n",
       "      <th>RunTime</th>\n",
       "      <th>AverageCPUTimeUsed</th>\n",
       "      <th>Used Memory</th>\n",
       "      <th>ReqTime:</th>\n",
       "    </tr>\n",
       "  </thead>\n",
       "  <tbody>\n",
       "    <tr>\n",
       "      <th>0</th>\n",
       "      <td>1136070024</td>\n",
       "      <td>203761</td>\n",
       "      <td>138467</td>\n",
       "      <td>138371</td>\n",
       "      <td>98652</td>\n",
       "      <td>259200</td>\n",
       "    </tr>\n",
       "    <tr>\n",
       "      <th>1</th>\n",
       "      <td>1136070690</td>\n",
       "      <td>0</td>\n",
       "      <td>11</td>\n",
       "      <td>4</td>\n",
       "      <td>35848</td>\n",
       "      <td>259200</td>\n",
       "    </tr>\n",
       "    <tr>\n",
       "      <th>2</th>\n",
       "      <td>1136071207</td>\n",
       "      <td>117</td>\n",
       "      <td>201203</td>\n",
       "      <td>0</td>\n",
       "      <td>0</td>\n",
       "      <td>259200</td>\n",
       "    </tr>\n",
       "    <tr>\n",
       "      <th>3</th>\n",
       "      <td>1136071267</td>\n",
       "      <td>4406</td>\n",
       "      <td>196985</td>\n",
       "      <td>0</td>\n",
       "      <td>0</td>\n",
       "      <td>259200</td>\n",
       "    </tr>\n",
       "    <tr>\n",
       "      <th>4</th>\n",
       "      <td>1136071269</td>\n",
       "      <td>202516</td>\n",
       "      <td>19520</td>\n",
       "      <td>18731</td>\n",
       "      <td>522268</td>\n",
       "      <td>259200</td>\n",
       "    </tr>\n",
       "    <tr>\n",
       "      <th>...</th>\n",
       "      <td>...</td>\n",
       "      <td>...</td>\n",
       "      <td>...</td>\n",
       "      <td>...</td>\n",
       "      <td>...</td>\n",
       "      <td>...</td>\n",
       "    </tr>\n",
       "    <tr>\n",
       "      <th>404171</th>\n",
       "      <td>1167603618</td>\n",
       "      <td>2</td>\n",
       "      <td>56</td>\n",
       "      <td>18</td>\n",
       "      <td>0</td>\n",
       "      <td>259200</td>\n",
       "    </tr>\n",
       "    <tr>\n",
       "      <th>404172</th>\n",
       "      <td>1167603624</td>\n",
       "      <td>1</td>\n",
       "      <td>57</td>\n",
       "      <td>17</td>\n",
       "      <td>61084</td>\n",
       "      <td>259200</td>\n",
       "    </tr>\n",
       "    <tr>\n",
       "      <th>404173</th>\n",
       "      <td>1167603637</td>\n",
       "      <td>1</td>\n",
       "      <td>45</td>\n",
       "      <td>17</td>\n",
       "      <td>0</td>\n",
       "      <td>259200</td>\n",
       "    </tr>\n",
       "    <tr>\n",
       "      <th>404174</th>\n",
       "      <td>1167603747</td>\n",
       "      <td>1</td>\n",
       "      <td>43</td>\n",
       "      <td>17</td>\n",
       "      <td>0</td>\n",
       "      <td>259200</td>\n",
       "    </tr>\n",
       "    <tr>\n",
       "      <th>404175</th>\n",
       "      <td>1167605790</td>\n",
       "      <td>52</td>\n",
       "      <td>-1</td>\n",
       "      <td>-1</td>\n",
       "      <td>-1</td>\n",
       "      <td>0</td>\n",
       "    </tr>\n",
       "  </tbody>\n",
       "</table>\n",
       "<p>404176 rows × 6 columns</p>\n",
       "</div>"
      ],
      "text/plain": [
       "        SubmitTime  WaitTime  RunTime   AverageCPUTimeUsed  Used Memory  \\\n",
       "0       1136070024    203761    138467              138371        98652   \n",
       "1       1136070690         0        11                   4        35848   \n",
       "2       1136071207       117    201203                   0            0   \n",
       "3       1136071267      4406    196985                   0            0   \n",
       "4       1136071269    202516     19520               18731       522268   \n",
       "...            ...       ...       ...                 ...          ...   \n",
       "404171  1167603618         2        56                  18            0   \n",
       "404172  1167603624         1        57                  17        61084   \n",
       "404173  1167603637         1        45                  17            0   \n",
       "404174  1167603747         1        43                  17            0   \n",
       "404175  1167605790        52        -1                  -1           -1   \n",
       "\n",
       "        ReqTime:   \n",
       "0          259200  \n",
       "1          259200  \n",
       "2          259200  \n",
       "3          259200  \n",
       "4          259200  \n",
       "...           ...  \n",
       "404171     259200  \n",
       "404172     259200  \n",
       "404173     259200  \n",
       "404174     259200  \n",
       "404175          0  \n",
       "\n",
       "[404176 rows x 6 columns]"
      ]
     },
     "execution_count": 26,
     "metadata": {},
     "output_type": "execute_result"
    }
   ],
   "source": [
    "data"
   ]
  },
  {
   "cell_type": "code",
   "execution_count": 27,
   "id": "fossil-debut",
   "metadata": {},
   "outputs": [
    {
     "data": {
      "text/plain": [
       "((56565, 0.13995140730770753), (0, 0.0))"
      ]
     },
     "execution_count": 27,
     "metadata": {},
     "output_type": "execute_result"
    }
   ],
   "source": [
    "return_percent_less_than('Used Memory', 0), return_percent_less_than('WaitTime', 0)"
   ]
  },
  {
   "cell_type": "code",
   "execution_count": 28,
   "id": "eight-collar",
   "metadata": {},
   "outputs": [],
   "source": [
    "change_value_less_than('Used Memory', 0, 0)"
   ]
  },
  {
   "cell_type": "markdown",
   "id": "experimental-insurance",
   "metadata": {},
   "source": [
    "### Values for Used Memory have been adjusted"
   ]
  },
  {
   "cell_type": "code",
   "execution_count": 29,
   "id": "victorian-rubber",
   "metadata": {},
   "outputs": [],
   "source": [
    "change_value_less_than('WaitTime', 0, 0)"
   ]
  },
  {
   "cell_type": "markdown",
   "id": "concerned-sewing",
   "metadata": {},
   "source": [
    "### Values for WaitTime have been adjusted"
   ]
  },
  {
   "cell_type": "code",
   "execution_count": 30,
   "id": "united-october",
   "metadata": {},
   "outputs": [
    {
     "data": {
      "text/html": [
       "<div>\n",
       "<style scoped>\n",
       "    .dataframe tbody tr th:only-of-type {\n",
       "        vertical-align: middle;\n",
       "    }\n",
       "\n",
       "    .dataframe tbody tr th {\n",
       "        vertical-align: top;\n",
       "    }\n",
       "\n",
       "    .dataframe thead th {\n",
       "        text-align: right;\n",
       "    }\n",
       "</style>\n",
       "<table border=\"1\" class=\"dataframe\">\n",
       "  <thead>\n",
       "    <tr style=\"text-align: right;\">\n",
       "      <th></th>\n",
       "      <th>SubmitTime</th>\n",
       "      <th>WaitTime</th>\n",
       "      <th>RunTime</th>\n",
       "      <th>AverageCPUTimeUsed</th>\n",
       "      <th>Used Memory</th>\n",
       "      <th>ReqTime:</th>\n",
       "    </tr>\n",
       "  </thead>\n",
       "  <tbody>\n",
       "    <tr>\n",
       "      <th>SubmitTime</th>\n",
       "      <td>1.000000</td>\n",
       "      <td>0.049792</td>\n",
       "      <td>0.055988</td>\n",
       "      <td>0.051565</td>\n",
       "      <td>0.078524</td>\n",
       "      <td>-0.116449</td>\n",
       "    </tr>\n",
       "    <tr>\n",
       "      <th>WaitTime</th>\n",
       "      <td>0.049792</td>\n",
       "      <td>1.000000</td>\n",
       "      <td>0.082618</td>\n",
       "      <td>0.094106</td>\n",
       "      <td>0.037051</td>\n",
       "      <td>0.001670</td>\n",
       "    </tr>\n",
       "    <tr>\n",
       "      <th>RunTime</th>\n",
       "      <td>0.055988</td>\n",
       "      <td>0.082618</td>\n",
       "      <td>1.000000</td>\n",
       "      <td>0.864234</td>\n",
       "      <td>0.419717</td>\n",
       "      <td>0.274379</td>\n",
       "    </tr>\n",
       "    <tr>\n",
       "      <th>AverageCPUTimeUsed</th>\n",
       "      <td>0.051565</td>\n",
       "      <td>0.094106</td>\n",
       "      <td>0.864234</td>\n",
       "      <td>1.000000</td>\n",
       "      <td>0.447703</td>\n",
       "      <td>0.290692</td>\n",
       "    </tr>\n",
       "    <tr>\n",
       "      <th>Used Memory</th>\n",
       "      <td>0.078524</td>\n",
       "      <td>0.037051</td>\n",
       "      <td>0.419717</td>\n",
       "      <td>0.447703</td>\n",
       "      <td>1.000000</td>\n",
       "      <td>0.244944</td>\n",
       "    </tr>\n",
       "    <tr>\n",
       "      <th>ReqTime:</th>\n",
       "      <td>-0.116449</td>\n",
       "      <td>0.001670</td>\n",
       "      <td>0.274379</td>\n",
       "      <td>0.290692</td>\n",
       "      <td>0.244944</td>\n",
       "      <td>1.000000</td>\n",
       "    </tr>\n",
       "  </tbody>\n",
       "</table>\n",
       "</div>"
      ],
      "text/plain": [
       "                    SubmitTime  WaitTime  RunTime   AverageCPUTimeUsed  \\\n",
       "SubmitTime            1.000000  0.049792  0.055988            0.051565   \n",
       "WaitTime              0.049792  1.000000  0.082618            0.094106   \n",
       "RunTime               0.055988  0.082618  1.000000            0.864234   \n",
       "AverageCPUTimeUsed    0.051565  0.094106  0.864234            1.000000   \n",
       "Used Memory           0.078524  0.037051  0.419717            0.447703   \n",
       "ReqTime:             -0.116449  0.001670  0.274379            0.290692   \n",
       "\n",
       "                    Used Memory  ReqTime:   \n",
       "SubmitTime             0.078524  -0.116449  \n",
       "WaitTime               0.037051   0.001670  \n",
       "RunTime                0.419717   0.274379  \n",
       "AverageCPUTimeUsed     0.447703   0.290692  \n",
       "Used Memory            1.000000   0.244944  \n",
       "ReqTime:               0.244944   1.000000  "
      ]
     },
     "execution_count": 30,
     "metadata": {},
     "output_type": "execute_result"
    }
   ],
   "source": [
    "data.corr()"
   ]
  },
  {
   "cell_type": "code",
   "execution_count": 31,
   "id": "developmental-organ",
   "metadata": {},
   "outputs": [
    {
     "data": {
      "text/plain": [
       "((0, 0.0), (56565, 0.13995140730770753), (56565, 0.13995140730770753))"
      ]
     },
     "execution_count": 31,
     "metadata": {},
     "output_type": "execute_result"
    }
   ],
   "source": [
    "return_percent_less_than('SubmitTime', 0), return_percent_less_than('RunTime ', 0), return_percent_less_than('AverageCPUTimeUsed', 0)"
   ]
  },
  {
   "cell_type": "code",
   "execution_count": 32,
   "id": "retired-insulation",
   "metadata": {},
   "outputs": [
    {
     "data": {
      "text/plain": [
       "(None, None)"
      ]
     },
     "execution_count": 32,
     "metadata": {},
     "output_type": "execute_result"
    }
   ],
   "source": [
    "change_value_less_than('RunTime ', 0, 0), change_value_less_than('AverageCPUTimeUsed', 0, 0)"
   ]
  },
  {
   "cell_type": "markdown",
   "id": "ready-planning",
   "metadata": {},
   "source": [
    "### All The values havd been adjusted, but perhaps I should've filled forward rather than making them all 0\n",
    "#### Will be done in the next iteration"
   ]
  },
  {
   "cell_type": "code",
   "execution_count": 33,
   "id": "medical-central",
   "metadata": {},
   "outputs": [
    {
     "data": {
      "text/html": [
       "<div>\n",
       "<style scoped>\n",
       "    .dataframe tbody tr th:only-of-type {\n",
       "        vertical-align: middle;\n",
       "    }\n",
       "\n",
       "    .dataframe tbody tr th {\n",
       "        vertical-align: top;\n",
       "    }\n",
       "\n",
       "    .dataframe thead th {\n",
       "        text-align: right;\n",
       "    }\n",
       "</style>\n",
       "<table border=\"1\" class=\"dataframe\">\n",
       "  <thead>\n",
       "    <tr style=\"text-align: right;\">\n",
       "      <th></th>\n",
       "      <th>SubmitTime</th>\n",
       "      <th>WaitTime</th>\n",
       "      <th>RunTime</th>\n",
       "      <th>AverageCPUTimeUsed</th>\n",
       "      <th>Used Memory</th>\n",
       "      <th>ReqTime:</th>\n",
       "    </tr>\n",
       "  </thead>\n",
       "  <tbody>\n",
       "    <tr>\n",
       "      <th>0</th>\n",
       "      <td>1136070024</td>\n",
       "      <td>203761</td>\n",
       "      <td>138467</td>\n",
       "      <td>138371</td>\n",
       "      <td>98652</td>\n",
       "      <td>259200</td>\n",
       "    </tr>\n",
       "    <tr>\n",
       "      <th>1</th>\n",
       "      <td>1136070690</td>\n",
       "      <td>0</td>\n",
       "      <td>11</td>\n",
       "      <td>4</td>\n",
       "      <td>35848</td>\n",
       "      <td>259200</td>\n",
       "    </tr>\n",
       "    <tr>\n",
       "      <th>2</th>\n",
       "      <td>1136071207</td>\n",
       "      <td>117</td>\n",
       "      <td>201203</td>\n",
       "      <td>0</td>\n",
       "      <td>0</td>\n",
       "      <td>259200</td>\n",
       "    </tr>\n",
       "    <tr>\n",
       "      <th>3</th>\n",
       "      <td>1136071267</td>\n",
       "      <td>4406</td>\n",
       "      <td>196985</td>\n",
       "      <td>0</td>\n",
       "      <td>0</td>\n",
       "      <td>259200</td>\n",
       "    </tr>\n",
       "    <tr>\n",
       "      <th>4</th>\n",
       "      <td>1136071269</td>\n",
       "      <td>202516</td>\n",
       "      <td>19520</td>\n",
       "      <td>18731</td>\n",
       "      <td>522268</td>\n",
       "      <td>259200</td>\n",
       "    </tr>\n",
       "    <tr>\n",
       "      <th>...</th>\n",
       "      <td>...</td>\n",
       "      <td>...</td>\n",
       "      <td>...</td>\n",
       "      <td>...</td>\n",
       "      <td>...</td>\n",
       "      <td>...</td>\n",
       "    </tr>\n",
       "    <tr>\n",
       "      <th>404171</th>\n",
       "      <td>1167603618</td>\n",
       "      <td>2</td>\n",
       "      <td>56</td>\n",
       "      <td>18</td>\n",
       "      <td>0</td>\n",
       "      <td>259200</td>\n",
       "    </tr>\n",
       "    <tr>\n",
       "      <th>404172</th>\n",
       "      <td>1167603624</td>\n",
       "      <td>1</td>\n",
       "      <td>57</td>\n",
       "      <td>17</td>\n",
       "      <td>61084</td>\n",
       "      <td>259200</td>\n",
       "    </tr>\n",
       "    <tr>\n",
       "      <th>404173</th>\n",
       "      <td>1167603637</td>\n",
       "      <td>1</td>\n",
       "      <td>45</td>\n",
       "      <td>17</td>\n",
       "      <td>0</td>\n",
       "      <td>259200</td>\n",
       "    </tr>\n",
       "    <tr>\n",
       "      <th>404174</th>\n",
       "      <td>1167603747</td>\n",
       "      <td>1</td>\n",
       "      <td>43</td>\n",
       "      <td>17</td>\n",
       "      <td>0</td>\n",
       "      <td>259200</td>\n",
       "    </tr>\n",
       "    <tr>\n",
       "      <th>404175</th>\n",
       "      <td>1167605790</td>\n",
       "      <td>52</td>\n",
       "      <td>0</td>\n",
       "      <td>0</td>\n",
       "      <td>0</td>\n",
       "      <td>0</td>\n",
       "    </tr>\n",
       "  </tbody>\n",
       "</table>\n",
       "<p>404176 rows × 6 columns</p>\n",
       "</div>"
      ],
      "text/plain": [
       "        SubmitTime  WaitTime  RunTime   AverageCPUTimeUsed  Used Memory  \\\n",
       "0       1136070024    203761    138467              138371        98652   \n",
       "1       1136070690         0        11                   4        35848   \n",
       "2       1136071207       117    201203                   0            0   \n",
       "3       1136071267      4406    196985                   0            0   \n",
       "4       1136071269    202516     19520               18731       522268   \n",
       "...            ...       ...       ...                 ...          ...   \n",
       "404171  1167603618         2        56                  18            0   \n",
       "404172  1167603624         1        57                  17        61084   \n",
       "404173  1167603637         1        45                  17            0   \n",
       "404174  1167603747         1        43                  17            0   \n",
       "404175  1167605790        52         0                   0            0   \n",
       "\n",
       "        ReqTime:   \n",
       "0          259200  \n",
       "1          259200  \n",
       "2          259200  \n",
       "3          259200  \n",
       "4          259200  \n",
       "...           ...  \n",
       "404171     259200  \n",
       "404172     259200  \n",
       "404173     259200  \n",
       "404174     259200  \n",
       "404175          0  \n",
       "\n",
       "[404176 rows x 6 columns]"
      ]
     },
     "execution_count": 33,
     "metadata": {},
     "output_type": "execute_result"
    }
   ],
   "source": [
    "data"
   ]
  },
  {
   "cell_type": "code",
   "execution_count": 34,
   "id": "photographic-brick",
   "metadata": {},
   "outputs": [
    {
     "data": {
      "text/html": [
       "<div>\n",
       "<style scoped>\n",
       "    .dataframe tbody tr th:only-of-type {\n",
       "        vertical-align: middle;\n",
       "    }\n",
       "\n",
       "    .dataframe tbody tr th {\n",
       "        vertical-align: top;\n",
       "    }\n",
       "\n",
       "    .dataframe thead th {\n",
       "        text-align: right;\n",
       "    }\n",
       "</style>\n",
       "<table border=\"1\" class=\"dataframe\">\n",
       "  <thead>\n",
       "    <tr style=\"text-align: right;\">\n",
       "      <th></th>\n",
       "      <th>SubmitTime</th>\n",
       "      <th>WaitTime</th>\n",
       "      <th>RunTime</th>\n",
       "      <th>AverageCPUTimeUsed</th>\n",
       "      <th>Used Memory</th>\n",
       "      <th>ReqTime:</th>\n",
       "    </tr>\n",
       "  </thead>\n",
       "  <tbody>\n",
       "    <tr>\n",
       "      <th>SubmitTime</th>\n",
       "      <td>1.000000</td>\n",
       "      <td>0.049792</td>\n",
       "      <td>0.055990</td>\n",
       "      <td>0.051567</td>\n",
       "      <td>0.078524</td>\n",
       "      <td>-0.116449</td>\n",
       "    </tr>\n",
       "    <tr>\n",
       "      <th>WaitTime</th>\n",
       "      <td>0.049792</td>\n",
       "      <td>1.000000</td>\n",
       "      <td>0.082618</td>\n",
       "      <td>0.094107</td>\n",
       "      <td>0.037051</td>\n",
       "      <td>0.001670</td>\n",
       "    </tr>\n",
       "    <tr>\n",
       "      <th>RunTime</th>\n",
       "      <td>0.055990</td>\n",
       "      <td>0.082618</td>\n",
       "      <td>1.000000</td>\n",
       "      <td>0.864233</td>\n",
       "      <td>0.419715</td>\n",
       "      <td>0.274372</td>\n",
       "    </tr>\n",
       "    <tr>\n",
       "      <th>AverageCPUTimeUsed</th>\n",
       "      <td>0.051567</td>\n",
       "      <td>0.094107</td>\n",
       "      <td>0.864233</td>\n",
       "      <td>1.000000</td>\n",
       "      <td>0.447701</td>\n",
       "      <td>0.290684</td>\n",
       "    </tr>\n",
       "    <tr>\n",
       "      <th>Used Memory</th>\n",
       "      <td>0.078524</td>\n",
       "      <td>0.037051</td>\n",
       "      <td>0.419715</td>\n",
       "      <td>0.447701</td>\n",
       "      <td>1.000000</td>\n",
       "      <td>0.244944</td>\n",
       "    </tr>\n",
       "    <tr>\n",
       "      <th>ReqTime:</th>\n",
       "      <td>-0.116449</td>\n",
       "      <td>0.001670</td>\n",
       "      <td>0.274372</td>\n",
       "      <td>0.290684</td>\n",
       "      <td>0.244944</td>\n",
       "      <td>1.000000</td>\n",
       "    </tr>\n",
       "  </tbody>\n",
       "</table>\n",
       "</div>"
      ],
      "text/plain": [
       "                    SubmitTime  WaitTime  RunTime   AverageCPUTimeUsed  \\\n",
       "SubmitTime            1.000000  0.049792  0.055990            0.051567   \n",
       "WaitTime              0.049792  1.000000  0.082618            0.094107   \n",
       "RunTime               0.055990  0.082618  1.000000            0.864233   \n",
       "AverageCPUTimeUsed    0.051567  0.094107  0.864233            1.000000   \n",
       "Used Memory           0.078524  0.037051  0.419715            0.447701   \n",
       "ReqTime:             -0.116449  0.001670  0.274372            0.290684   \n",
       "\n",
       "                    Used Memory  ReqTime:   \n",
       "SubmitTime             0.078524  -0.116449  \n",
       "WaitTime               0.037051   0.001670  \n",
       "RunTime                0.419715   0.274372  \n",
       "AverageCPUTimeUsed     0.447701   0.290684  \n",
       "Used Memory            1.000000   0.244944  \n",
       "ReqTime:               0.244944   1.000000  "
      ]
     },
     "execution_count": 34,
     "metadata": {},
     "output_type": "execute_result"
    }
   ],
   "source": [
    "data.corr()"
   ]
  },
  {
   "cell_type": "code",
   "execution_count": 35,
   "id": "missing-grocery",
   "metadata": {},
   "outputs": [
    {
     "data": {
      "text/plain": [
       "<AxesSubplot:>"
      ]
     },
     "execution_count": 35,
     "metadata": {},
     "output_type": "execute_result"
    },
    {
     "data": {
      "image/png": "[encoded data removed]",
      "text/plain": [
       "<Figure size 640x480 with 1 Axes>"
      ]
     },
     "metadata": {},
     "output_type": "display_data"
    }
   ],
   "source": [
    "data[\"RunTime \"].plot()"
   ]
  },
  {
   "cell_type": "markdown",
   "id": "through-dividend",
   "metadata": {},
   "source": [
    "## RNN"
   ]
  },
  {
   "cell_type": "code",
   "execution_count": 39,
   "id": "unsigned-breeding",
   "metadata": {},
   "outputs": [],
   "source": [
    "import matplotlib.pyplot as plt\n",
    "from sklearn.preprocessing import MinMaxScaler"
   ]
  },
  {
   "cell_type": "code",
   "execution_count": 40,
   "id": "optimum-evans",
   "metadata": {},
   "outputs": [
    {
     "data": {
      "text/plain": [
       "[<matplotlib.lines.Line2D at 0x2aaa0f85ac0>]"
      ]
     },
     "execution_count": 40,
     "metadata": {},
     "output_type": "execute_result"
    },
    {
     "data": {
      "image/png": "[encoded data removed]",
      "text/plain": [
       "<Figure size 640x480 with 1 Axes>"
      ]
     },
     "metadata": {},
     "output_type": "display_data"
    }
   ],
   "source": [
    "plt.plot(data[\"RunTime \"])"
   ]
  },
  {
   "cell_type": "code",
   "execution_count": 41,
   "id": "wired-barrel",
   "metadata": {},
   "outputs": [],
   "source": [
    "returns = data[\"RunTime \"].pct_change()"
   ]
  },
  {
   "cell_type": "code",
   "execution_count": 43,
   "id": "innocent-western",
   "metadata": {},
   "outputs": [],
   "source": [
    "import numpy as np"
   ]
  },
  {
   "cell_type": "code",
   "execution_count": 46,
   "id": "seasonal-satellite",
   "metadata": {
    "scrolled": true
   },
   "outputs": [],
   "source": [
    "column_names = data.columns\n",
    "x = data.values  #returns a numpy array\n",
    "min_max_scaler = MinMaxScaler()\n",
    "x_scaled = min_max_scaler.fit_transform(x)\n",
    "df = pd.DataFrame(x_scaled)"
   ]
  },
  {
   "cell_type": "code",
   "execution_count": 47,
   "id": "relative-influence",
   "metadata": {},
   "outputs": [],
   "source": [
    "pct_c_data = df"
   ]
  },
  {
   "cell_type": "code",
   "execution_count": 48,
   "id": "military-church",
   "metadata": {},
   "outputs": [],
   "source": [
    "pct_c_data.columns = column_names"
   ]
  },
  {
   "cell_type": "code",
   "execution_count": 50,
   "id": "collaborative-exclusion",
   "metadata": {},
   "outputs": [
    {
     "data": {
      "text/html": [
       "<div>\n",
       "<style scoped>\n",
       "    .dataframe tbody tr th:only-of-type {\n",
       "        vertical-align: middle;\n",
       "    }\n",
       "\n",
       "    .dataframe tbody tr th {\n",
       "        vertical-align: top;\n",
       "    }\n",
       "\n",
       "    .dataframe thead th {\n",
       "        text-align: right;\n",
       "    }\n",
       "</style>\n",
       "<table border=\"1\" class=\"dataframe\">\n",
       "  <thead>\n",
       "    <tr style=\"text-align: right;\">\n",
       "      <th></th>\n",
       "      <th>SubmitTime</th>\n",
       "      <th>WaitTime</th>\n",
       "      <th>RunTime</th>\n",
       "      <th>AverageCPUTimeUsed</th>\n",
       "      <th>Used Memory</th>\n",
       "      <th>ReqTime:</th>\n",
       "    </tr>\n",
       "  </thead>\n",
       "  <tbody>\n",
       "    <tr>\n",
       "      <th>0</th>\n",
       "      <td>0.000000</td>\n",
       "      <td>4.689126e-02</td>\n",
       "      <td>0.087870</td>\n",
       "      <td>0.533600</td>\n",
       "      <td>0.026898</td>\n",
       "      <td>0.75</td>\n",
       "    </tr>\n",
       "    <tr>\n",
       "      <th>1</th>\n",
       "      <td>0.000021</td>\n",
       "      <td>0.000000e+00</td>\n",
       "      <td>0.000007</td>\n",
       "      <td>0.000015</td>\n",
       "      <td>0.009774</td>\n",
       "      <td>0.75</td>\n",
       "    </tr>\n",
       "    <tr>\n",
       "      <th>2</th>\n",
       "      <td>0.000038</td>\n",
       "      <td>2.692506e-05</td>\n",
       "      <td>0.127682</td>\n",
       "      <td>0.000000</td>\n",
       "      <td>0.000000</td>\n",
       "      <td>0.75</td>\n",
       "    </tr>\n",
       "    <tr>\n",
       "      <th>3</th>\n",
       "      <td>0.000039</td>\n",
       "      <td>1.013947e-03</td>\n",
       "      <td>0.125005</td>\n",
       "      <td>0.000000</td>\n",
       "      <td>0.000000</td>\n",
       "      <td>0.75</td>\n",
       "    </tr>\n",
       "    <tr>\n",
       "      <th>4</th>\n",
       "      <td>0.000039</td>\n",
       "      <td>4.660475e-02</td>\n",
       "      <td>0.012387</td>\n",
       "      <td>0.072232</td>\n",
       "      <td>0.142398</td>\n",
       "      <td>0.75</td>\n",
       "    </tr>\n",
       "    <tr>\n",
       "      <th>...</th>\n",
       "      <td>...</td>\n",
       "      <td>...</td>\n",
       "      <td>...</td>\n",
       "      <td>...</td>\n",
       "      <td>...</td>\n",
       "      <td>...</td>\n",
       "    </tr>\n",
       "    <tr>\n",
       "      <th>404171</th>\n",
       "      <td>0.999931</td>\n",
       "      <td>4.602575e-07</td>\n",
       "      <td>0.000036</td>\n",
       "      <td>0.000069</td>\n",
       "      <td>0.000000</td>\n",
       "      <td>0.75</td>\n",
       "    </tr>\n",
       "    <tr>\n",
       "      <th>404172</th>\n",
       "      <td>0.999931</td>\n",
       "      <td>2.301287e-07</td>\n",
       "      <td>0.000036</td>\n",
       "      <td>0.000066</td>\n",
       "      <td>0.016655</td>\n",
       "      <td>0.75</td>\n",
       "    </tr>\n",
       "    <tr>\n",
       "      <th>404173</th>\n",
       "      <td>0.999932</td>\n",
       "      <td>2.301287e-07</td>\n",
       "      <td>0.000029</td>\n",
       "      <td>0.000066</td>\n",
       "      <td>0.000000</td>\n",
       "      <td>0.75</td>\n",
       "    </tr>\n",
       "    <tr>\n",
       "      <th>404174</th>\n",
       "      <td>0.999935</td>\n",
       "      <td>2.301287e-07</td>\n",
       "      <td>0.000027</td>\n",
       "      <td>0.000066</td>\n",
       "      <td>0.000000</td>\n",
       "      <td>0.75</td>\n",
       "    </tr>\n",
       "    <tr>\n",
       "      <th>404175</th>\n",
       "      <td>1.000000</td>\n",
       "      <td>1.196669e-05</td>\n",
       "      <td>0.000000</td>\n",
       "      <td>0.000000</td>\n",
       "      <td>0.000000</td>\n",
       "      <td>0.00</td>\n",
       "    </tr>\n",
       "  </tbody>\n",
       "</table>\n",
       "<p>404176 rows × 6 columns</p>\n",
       "</div>"
      ],
      "text/plain": [
       "        SubmitTime      WaitTime  RunTime   AverageCPUTimeUsed  Used Memory  \\\n",
       "0         0.000000  4.689126e-02  0.087870            0.533600     0.026898   \n",
       "1         0.000021  0.000000e+00  0.000007            0.000015     0.009774   \n",
       "2         0.000038  2.692506e-05  0.127682            0.000000     0.000000   \n",
       "3         0.000039  1.013947e-03  0.125005            0.000000     0.000000   \n",
       "4         0.000039  4.660475e-02  0.012387            0.072232     0.142398   \n",
       "...            ...           ...       ...                 ...          ...   \n",
       "404171    0.999931  4.602575e-07  0.000036            0.000069     0.000000   \n",
       "404172    0.999931  2.301287e-07  0.000036            0.000066     0.016655   \n",
       "404173    0.999932  2.301287e-07  0.000029            0.000066     0.000000   \n",
       "404174    0.999935  2.301287e-07  0.000027            0.000066     0.000000   \n",
       "404175    1.000000  1.196669e-05  0.000000            0.000000     0.000000   \n",
       "\n",
       "        ReqTime:   \n",
       "0            0.75  \n",
       "1            0.75  \n",
       "2            0.75  \n",
       "3            0.75  \n",
       "4            0.75  \n",
       "...           ...  \n",
       "404171       0.75  \n",
       "404172       0.75  \n",
       "404173       0.75  \n",
       "404174       0.75  \n",
       "404175       0.00  \n",
       "\n",
       "[404176 rows x 6 columns]"
      ]
     },
     "execution_count": 50,
     "metadata": {},
     "output_type": "execute_result"
    }
   ],
   "source": [
    "pct_c_data"
   ]
  },
  {
   "cell_type": "markdown",
   "id": "periodic-recycling",
   "metadata": {},
   "source": [
    "## Univariate"
   ]
  },
  {
   "cell_type": "code",
   "execution_count": 51,
   "id": "standard-milton",
   "metadata": {},
   "outputs": [
    {
     "data": {
      "text/plain": [
       "0                  NaN\n",
       "1            -0.999921\n",
       "2         18290.181818\n",
       "3            -0.020964\n",
       "4            -0.900906\n",
       "              ...     \n",
       "404171        0.365854\n",
       "404172        0.017857\n",
       "404173       -0.210526\n",
       "404174       -0.044444\n",
       "404175       -1.000000\n",
       "Name: RunTime , Length: 404176, dtype: float64"
      ]
     },
     "execution_count": 51,
     "metadata": {},
     "output_type": "execute_result"
    }
   ],
   "source": [
    "returns"
   ]
  },
  {
   "cell_type": "code",
   "execution_count": 67,
   "id": "apparent-reynolds",
   "metadata": {},
   "outputs": [],
   "source": [
    "def count_outside_range(arr, low, high):\n",
    "    count = 0\n",
    "    for i in range(0, len(arr)):\n",
    "        if arr[i] > high or arr[i] < low:\n",
    "            count = count + 1\n",
    "    return count"
   ]
  },
  {
   "cell_type": "code",
   "execution_count": 75,
   "id": "dental-mozambique",
   "metadata": {},
   "outputs": [
    {
     "data": {
      "text/plain": [
       "22391"
      ]
     },
     "execution_count": 75,
     "metadata": {},
     "output_type": "execute_result"
    }
   ],
   "source": [
    "count_outside_range(returns, -99999, 99999)"
   ]
  },
  {
   "cell_type": "code",
   "execution_count": 76,
   "id": "convertible-classic",
   "metadata": {},
   "outputs": [],
   "source": [
    "def change_outside_range(arr, low, high):\n",
    "    for i in range(0, len(arr)):\n",
    "        if arr[i] > high or arr[i] < low:\n",
    "            arr[i] = 0"
   ]
  },
  {
   "cell_type": "code",
   "execution_count": 77,
   "id": "after-encounter",
   "metadata": {},
   "outputs": [],
   "source": [
    "change_outside_range(returns, -99999, 99999)"
   ]
  },
  {
   "cell_type": "code",
   "execution_count": null,
   "id": "mexican-density",
   "metadata": {},
   "outputs": [],
   "source": []
  },
  {
   "cell_type": "code",
   "execution_count": null,
   "id": "pharmaceutical-boost",
   "metadata": {},
   "outputs": [],
   "source": []
  },
  {
   "cell_type": "code",
   "execution_count": null,
   "id": "featured-drinking",
   "metadata": {},
   "outputs": [],
   "source": []
  },
  {
   "cell_type": "code",
   "execution_count": 78,
   "id": "optimum-invalid",
   "metadata": {},
   "outputs": [
    {
     "data": {
      "text/plain": [
       "[<matplotlib.lines.Line2D at 0x2aa9cfa3040>]"
      ]
     },
     "execution_count": 78,
     "metadata": {},
     "output_type": "execute_result"
    },
    {
     "data": {
      "image/png": "[encoded data removed]",
      "text/plain": [
       "<Figure size 640x480 with 1 Axes>"
      ]
     },
     "metadata": {},
     "output_type": "display_data"
    }
   ],
   "source": [
    "plt.plot(returns)"
   ]
  },
  {
   "cell_type": "markdown",
   "id": "geological-proxy",
   "metadata": {},
   "source": [
    "### We need to remove an inf value in the data"
   ]
  },
  {
   "cell_type": "code",
   "execution_count": 87,
   "id": "protective-anderson",
   "metadata": {},
   "outputs": [],
   "source": [
    "npa = returns.values[1:].reshape(-1,1)"
   ]
  },
  {
   "cell_type": "code",
   "execution_count": 88,
   "id": "finite-lebanon",
   "metadata": {},
   "outputs": [
    {
     "data": {
      "text/plain": [
       "False"
      ]
     },
     "execution_count": 88,
     "metadata": {},
     "output_type": "execute_result"
    }
   ],
   "source": [
    "np.any(np.isnan(df))"
   ]
  },
  {
   "cell_type": "code",
   "execution_count": 89,
   "id": "filled-replica",
   "metadata": {},
   "outputs": [
    {
     "data": {
      "text/plain": [
       "True"
      ]
     },
     "execution_count": 89,
     "metadata": {},
     "output_type": "execute_result"
    }
   ],
   "source": [
    "np.all(np.isfinite(df))"
   ]
  },
  {
   "cell_type": "code",
   "execution_count": 96,
   "id": "stainless-reason",
   "metadata": {},
   "outputs": [
    {
     "data": {
      "text/plain": [
       "[<matplotlib.lines.Line2D at 0x2aa9d0cafd0>]"
      ]
     },
     "execution_count": 96,
     "metadata": {},
     "output_type": "execute_result"
    },
    {
     "data": {
      "image/png": "[encoded data removed]",
      "text/plain": [
       "<Figure size 640x480 with 1 Axes>"
      ]
     },
     "metadata": {},
     "output_type": "display_data"
    }
   ],
   "source": [
    "plt.plot(returns)"
   ]
  },
  {
   "cell_type": "code",
   "execution_count": null,
   "id": "bacterial-prediction",
   "metadata": {},
   "outputs": [],
   "source": []
  },
  {
   "cell_type": "code",
   "execution_count": null,
   "id": "dried-orientation",
   "metadata": {},
   "outputs": [],
   "source": []
  },
  {
   "cell_type": "code",
   "execution_count": null,
   "id": "parallel-alexander",
   "metadata": {},
   "outputs": [],
   "source": []
  },
  {
   "cell_type": "code",
   "execution_count": null,
   "id": "complex-decade",
   "metadata": {},
   "outputs": [],
   "source": []
  },
  {
   "cell_type": "code",
   "execution_count": null,
   "id": "adaptive-large",
   "metadata": {},
   "outputs": [],
   "source": []
  },
  {
   "cell_type": "code",
   "execution_count": 90,
   "id": "eastern-regard",
   "metadata": {},
   "outputs": [
    {
     "data": {
      "text/plain": [
       "<AxesSubplot:>"
      ]
     },
     "execution_count": 90,
     "metadata": {},
     "output_type": "execute_result"
    },
    {
     "data": {
      "image/png": "[encoded data removed]",
      "text/plain": [
       "<Figure size 640x480 with 1 Axes>"
      ]
     },
     "metadata": {},
     "output_type": "display_data"
    }
   ],
   "source": [
    "returns.hist()"
   ]
  },
  {
   "cell_type": "code",
   "execution_count": null,
   "id": "found-steel",
   "metadata": {},
   "outputs": [],
   "source": []
  },
  {
   "cell_type": "code",
   "execution_count": 91,
   "id": "happy-plymouth",
   "metadata": {},
   "outputs": [
    {
     "data": {
      "text/plain": [
       "404175"
      ]
     },
     "execution_count": 91,
     "metadata": {},
     "output_type": "execute_result"
    }
   ],
   "source": [
    "len(npa)"
   ]
  },
  {
   "cell_type": "code",
   "execution_count": 92,
   "id": "resistant-pitch",
   "metadata": {},
   "outputs": [],
   "source": [
    "scale = MinMaxScaler(feature_range=(0,1))"
   ]
  },
  {
   "cell_type": "code",
   "execution_count": 93,
   "id": "approved-softball",
   "metadata": {},
   "outputs": [],
   "source": [
    "npa = scale.fit_transform(npa)"
   ]
  },
  {
   "cell_type": "code",
   "execution_count": 94,
   "id": "textile-chart",
   "metadata": {},
   "outputs": [
    {
     "data": {
      "text/plain": [
       "array([[7.97363354e-10],\n",
       "       [1.83591105e-01],\n",
       "       [9.82671984e-06],\n",
       "       ...,\n",
       "       [7.92405585e-06],\n",
       "       [9.59104241e-06],\n",
       "       [0.00000000e+00]])"
      ]
     },
     "execution_count": 94,
     "metadata": {},
     "output_type": "execute_result"
    }
   ],
   "source": [
    "npa"
   ]
  },
  {
   "cell_type": "code",
   "execution_count": 99,
   "id": "integrated-cathedral",
   "metadata": {},
   "outputs": [
    {
     "name": "stdout",
     "output_type": "stream",
     "text": [
      "Testing data length is:  10 :  [array([[7.97363354e-10],\n",
      "       [1.83591105e-01],\n",
      "       [9.82671984e-06],\n",
      "       [9.94618485e-07],\n",
      "       [2.36530902e-08],\n",
      "       [4.58217143e-06],\n",
      "       [9.45550919e-02],\n",
      "       [1.00295778e-05],\n",
      "       [1.00305368e-05],\n",
      "       [1.00342414e-05]])]\n",
      "Training data length is:  1 :  [9.554072059582297e-07]\n"
     ]
    }
   ],
   "source": [
    "samples = 10\n",
    "steps = 1\n",
    "X = []\n",
    "Y = []\n",
    "\n",
    "for i in range(npa.shape[0] - samples):\n",
    "    X.append(npa[i:i+samples])\n",
    "    Y.append(npa[i+samples][0])\n",
    "    \n",
    "print(\"Testing data length is: \", len(X[0:1][0]), ': ', X[0:1])\n",
    "print(\"Training data length is: \", len(Y[0:1]), ': ', Y[0:1])"
   ]
  },
  {
   "cell_type": "code",
   "execution_count": 100,
   "id": "oriented-wisdom",
   "metadata": {},
   "outputs": [
    {
     "name": "stdout",
     "output_type": "stream",
     "text": [
      "Dimensions of X (404165, 10, 1) Dimensions of Y (404165,)\n",
      "Threshold is 363748\n"
     ]
    }
   ],
   "source": [
    "X = np.array(X)\n",
    "Y = np.array(Y)\n",
    "\n",
    "print('Dimensions of X', X.shape, 'Dimensions of Y', Y.shape)\n",
    "\n",
    "threshold = round(0.9 * X.shape[0])\n",
    "print('Threshold is', threshold)"
   ]
  },
  {
   "cell_type": "code",
   "execution_count": 118,
   "id": "strange-score",
   "metadata": {},
   "outputs": [
    {
     "data": {
      "text/plain": [
       "(array([[7.97363354e-10],\n",
       "        [1.83591105e-01],\n",
       "        [9.82671984e-06],\n",
       "        [9.94618485e-07],\n",
       "        [2.36530902e-08],\n",
       "        [4.58217143e-06],\n",
       "        [9.45550919e-02],\n",
       "        [1.00295778e-05],\n",
       "        [1.00305368e-05],\n",
       "        [1.00342414e-05]]),\n",
       " array([[1.83591105e-01],\n",
       "        [9.82671984e-06],\n",
       "        [9.94618485e-07],\n",
       "        [2.36530902e-08],\n",
       "        [4.58217143e-06],\n",
       "        [9.45550919e-02],\n",
       "        [1.00295778e-05],\n",
       "        [1.00305368e-05],\n",
       "        [1.00342414e-05],\n",
       "        [9.55407206e-07]]))"
      ]
     },
     "execution_count": 118,
     "metadata": {},
     "output_type": "execute_result"
    }
   ],
   "source": [
    "X[0], X[1]"
   ]
  },
  {
   "cell_type": "markdown",
   "id": "vocal-living",
   "metadata": {},
   "source": [
    "## Building the architecture"
   ]
  },
  {
   "cell_type": "code",
   "execution_count": 105,
   "id": "latin-prevention",
   "metadata": {},
   "outputs": [],
   "source": [
    "import tensorflow as tf\n",
    "from tensorflow import keras\n",
    "from tensorflow.keras import layers"
   ]
  },
  {
   "cell_type": "code",
   "execution_count": 106,
   "id": "stainless-presence",
   "metadata": {},
   "outputs": [],
   "source": [
    "model = keras.Sequential()"
   ]
  },
  {
   "cell_type": "code",
   "execution_count": 107,
   "id": "saving-wayne",
   "metadata": {},
   "outputs": [
    {
     "name": "stderr",
     "output_type": "stream",
     "text": [
      "c:\\python\\python391\\lib\\site-packages\\keras\\src\\layers\\rnn\\rnn.py:205: UserWarning: Do not pass an `input_shape`/`input_dim` argument to a layer. When using Sequential models, prefer using an `Input(shape)` object as the first layer in the model instead.\n",
      "  super().__init__(**kwargs)\n"
     ]
    }
   ],
   "source": [
    "model.add(layers.SimpleRNN(3, \n",
    "                          activation = 'tanh',\n",
    "                          use_bias=True,\n",
    "                          input_shape=(X.shape[1], X.shape[2])))"
   ]
  },
  {
   "cell_type": "code",
   "execution_count": 108,
   "id": "numeric-beast",
   "metadata": {},
   "outputs": [],
   "source": [
    "model.add(layers.Dropout(rate=0.2))"
   ]
  },
  {
   "cell_type": "code",
   "execution_count": 109,
   "id": "unavailable-arlington",
   "metadata": {},
   "outputs": [],
   "source": [
    "model.add(layers.Dense(1))"
   ]
  },
  {
   "cell_type": "code",
   "execution_count": 110,
   "id": "armed-packaging",
   "metadata": {},
   "outputs": [],
   "source": [
    "model.compile(loss='mean_squared_error', optimizer='adam')"
   ]
  },
  {
   "cell_type": "code",
   "execution_count": 111,
   "id": "atomic-peninsula",
   "metadata": {},
   "outputs": [
    {
     "data": {
      "text/html": [
       "<pre style=\"white-space:pre;overflow-x:auto;line-height:normal;font-family:Menlo,'DejaVu Sans Mono',consolas,'Courier New',monospace\"><span style=\"font-weight: bold\">Model: \"sequential_1\"</span>\n",
       "</pre>\n"
      ],
      "text/plain": [
       "\u001b[1mModel: \"sequential_1\"\u001b[0m\n"
      ]
     },
     "metadata": {},
     "output_type": "display_data"
    },
    {
     "data": {
      "text/html": [
       "<pre style=\"white-space:pre;overflow-x:auto;line-height:normal;font-family:Menlo,'DejaVu Sans Mono',consolas,'Courier New',monospace\">┏━━━━━━━━━━━━━━━━━━━━━━━━━━━━━━━━━━━━┳━━━━━━━━━━━━━━━━━━━━━━━━━━━━━━━┳━━━━━━━━━━━━━┓\n",
       "┃<span style=\"font-weight: bold\"> Layer (type)                       </span>┃<span style=\"font-weight: bold\"> Output Shape                  </span>┃<span style=\"font-weight: bold\">     Param # </span>┃\n",
       "┡━━━━━━━━━━━━━━━━━━━━━━━━━━━━━━━━━━━━╇━━━━━━━━━━━━━━━━━━━━━━━━━━━━━━━╇━━━━━━━━━━━━━┩\n",
       "│ simple_rnn (<span style=\"color: #0087ff; text-decoration-color: #0087ff\">SimpleRNN</span>)             │ (<span style=\"color: #00d7ff; text-decoration-color: #00d7ff\">None</span>, <span style=\"color: #00af00; text-decoration-color: #00af00\">3</span>)                     │          <span style=\"color: #00af00; text-decoration-color: #00af00\">15</span> │\n",
       "├────────────────────────────────────┼───────────────────────────────┼─────────────┤\n",
       "│ dropout (<span style=\"color: #0087ff; text-decoration-color: #0087ff\">Dropout</span>)                  │ (<span style=\"color: #00d7ff; text-decoration-color: #00d7ff\">None</span>, <span style=\"color: #00af00; text-decoration-color: #00af00\">3</span>)                     │           <span style=\"color: #00af00; text-decoration-color: #00af00\">0</span> │\n",
       "├────────────────────────────────────┼───────────────────────────────┼─────────────┤\n",
       "│ dense (<span style=\"color: #0087ff; text-decoration-color: #0087ff\">Dense</span>)                      │ (<span style=\"color: #00d7ff; text-decoration-color: #00d7ff\">None</span>, <span style=\"color: #00af00; text-decoration-color: #00af00\">1</span>)                     │           <span style=\"color: #00af00; text-decoration-color: #00af00\">4</span> │\n",
       "└────────────────────────────────────┴───────────────────────────────┴─────────────┘\n",
       "</pre>\n"
      ],
      "text/plain": [
       "┏━━━━━━━━━━━━━━━━━━━━━━━━━━━━━━━━━━━━┳━━━━━━━━━━━━━━━━━━━━━━━━━━━━━━━┳━━━━━━━━━━━━━┓\n",
       "┃\u001b[1m \u001b[0m\u001b[1mLayer (type)                      \u001b[0m\u001b[1m \u001b[0m┃\u001b[1m \u001b[0m\u001b[1mOutput Shape                 \u001b[0m\u001b[1m \u001b[0m┃\u001b[1m \u001b[0m\u001b[1m    Param #\u001b[0m\u001b[1m \u001b[0m┃\n",
       "┡━━━━━━━━━━━━━━━━━━━━━━━━━━━━━━━━━━━━╇━━━━━━━━━━━━━━━━━━━━━━━━━━━━━━━╇━━━━━━━━━━━━━┩\n",
       "│ simple_rnn (\u001b[38;5;33mSimpleRNN\u001b[0m)             │ (\u001b[38;5;45mNone\u001b[0m, \u001b[38;5;34m3\u001b[0m)                     │          \u001b[38;5;34m15\u001b[0m │\n",
       "├────────────────────────────────────┼───────────────────────────────┼─────────────┤\n",
       "│ dropout (\u001b[38;5;33mDropout\u001b[0m)                  │ (\u001b[38;5;45mNone\u001b[0m, \u001b[38;5;34m3\u001b[0m)                     │           \u001b[38;5;34m0\u001b[0m │\n",
       "├────────────────────────────────────┼───────────────────────────────┼─────────────┤\n",
       "│ dense (\u001b[38;5;33mDense\u001b[0m)                      │ (\u001b[38;5;45mNone\u001b[0m, \u001b[38;5;34m1\u001b[0m)                     │           \u001b[38;5;34m4\u001b[0m │\n",
       "└────────────────────────────────────┴───────────────────────────────┴─────────────┘\n"
      ]
     },
     "metadata": {},
     "output_type": "display_data"
    },
    {
     "data": {
      "text/html": [
       "<pre style=\"white-space:pre;overflow-x:auto;line-height:normal;font-family:Menlo,'DejaVu Sans Mono',consolas,'Courier New',monospace\"><span style=\"font-weight: bold\"> Total params: </span><span style=\"color: #00af00; text-decoration-color: #00af00\">19</span> (76.00 B)\n",
       "</pre>\n"
      ],
      "text/plain": [
       "\u001b[1m Total params: \u001b[0m\u001b[38;5;34m19\u001b[0m (76.00 B)\n"
      ]
     },
     "metadata": {},
     "output_type": "display_data"
    },
    {
     "data": {
      "text/html": [
       "<pre style=\"white-space:pre;overflow-x:auto;line-height:normal;font-family:Menlo,'DejaVu Sans Mono',consolas,'Courier New',monospace\"><span style=\"font-weight: bold\"> Trainable params: </span><span style=\"color: #00af00; text-decoration-color: #00af00\">19</span> (76.00 B)\n",
       "</pre>\n"
      ],
      "text/plain": [
       "\u001b[1m Trainable params: \u001b[0m\u001b[38;5;34m19\u001b[0m (76.00 B)\n"
      ]
     },
     "metadata": {},
     "output_type": "display_data"
    },
    {
     "data": {
      "text/html": [
       "<pre style=\"white-space:pre;overflow-x:auto;line-height:normal;font-family:Menlo,'DejaVu Sans Mono',consolas,'Courier New',monospace\"><span style=\"font-weight: bold\"> Non-trainable params: </span><span style=\"color: #00af00; text-decoration-color: #00af00\">0</span> (0.00 B)\n",
       "</pre>\n"
      ],
      "text/plain": [
       "\u001b[1m Non-trainable params: \u001b[0m\u001b[38;5;34m0\u001b[0m (0.00 B)\n"
      ]
     },
     "metadata": {},
     "output_type": "display_data"
    }
   ],
   "source": [
    "model.summary()"
   ]
  },
  {
   "cell_type": "code",
   "execution_count": 122,
   "id": "nervous-shooting",
   "metadata": {},
   "outputs": [
    {
     "name": "stdout",
     "output_type": "stream",
     "text": [
      "\u001b[1m1/1\u001b[0m \u001b[32m━━━━━━━━━━━━━━━━━━━━\u001b[0m\u001b[37m\u001b[0m \u001b[1m0s\u001b[0m 201ms/step - loss: nan - val_loss: nan\n"
     ]
    }
   ],
   "source": [
    "history = model.fit(X[:2],\n",
    "                    Y[:2],\n",
    "                    shuffle=False,\n",
    "                    epochs=1,\n",
    "                    batch_size=32,\n",
    "                    validation_split=0.2,\n",
    "                    verbose=1)"
   ]
  },
  {
   "cell_type": "code",
   "execution_count": 114,
   "id": "macro-boundary",
   "metadata": {},
   "outputs": [
    {
     "data": {
      "text/plain": [
       "[<matplotlib.lines.Line2D at 0x2aacaaa22e0>]"
      ]
     },
     "execution_count": 114,
     "metadata": {},
     "output_type": "execute_result"
    },
    {
     "data": {
      "image/png": "[encoded data removed]",
      "text/plain": [
       "<Figure size 640x480 with 1 Axes>"
      ]
     },
     "metadata": {},
     "output_type": "display_data"
    }
   ],
   "source": [
    " plt.plot(history.history['loss'], label = 'training loss')"
   ]
  },
  {
   "cell_type": "code",
   "execution_count": null,
   "id": "successful-welcome",
   "metadata": {},
   "outputs": [],
   "source": []
  }
 ],
 "metadata": {
  "kernelspec": {
   "display_name": "Python 3 (ipykernel)",
   "language": "python",
   "name": "python3"
  },
  "language_info": {
   "codemirror_mode": {
    "name": "ipython",
    "version": 3
   },
   "file_extension": ".py",
   "mimetype": "text/x-python",
   "name": "python",
   "nbconvert_exporter": "python",
   "pygments_lexer": "ipython3",
   "version": "3.9.1"
  }
 },
 "nbformat": 4,
 "nbformat_minor": 5
}
