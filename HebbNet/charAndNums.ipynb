{
 "cells": [
  {
   "cell_type": "code",
   "execution_count": 1,
   "id": "1562ed44-c94e-4863-a498-f0c87c862497",
   "metadata": {},
   "outputs": [],
   "source": [
    "import numpy as np"
   ]
  },
  {
   "cell_type": "code",
   "execution_count": 2,
   "id": "75a6fed2-fc46-4f9d-86a0-541caac29acf",
   "metadata": {},
   "outputs": [],
   "source": [
    "char1, char2 = ord('A'), ord('Z')"
   ]
  },
  {
   "cell_type": "code",
   "execution_count": 3,
   "id": "b2e50ac5-78f6-44dc-8392-96ab555773a6",
   "metadata": {},
   "outputs": [],
   "source": [
    "inputArray = np.array([ [char1, char1],\n",
    "                        [char1, char2],\n",
    "                        [char2, char1],\n",
    "                        [char2, char2]])"
   ]
  },
  {
   "cell_type": "markdown",
   "id": "d03c6581-343e-474f-95f2-9c7d1720f19c",
   "metadata": {},
   "source": [
    "### The input array is this: "
   ]
  },
  {
   "cell_type": "code",
   "execution_count": 20,
   "id": "53c6e172-9b5f-4b3e-9deb-ac8377c7c4ff",
   "metadata": {},
   "outputs": [
    {
     "data": {
      "text/plain": [
       "array([[65, 65],\n",
       "       [65, 90],\n",
       "       [90, 65],\n",
       "       [90, 90]])"
      ]
     },
     "execution_count": 20,
     "metadata": {},
     "output_type": "execute_result"
    }
   ],
   "source": [
    "inputArray"
   ]
  },
  {
   "cell_type": "code",
   "execution_count": 21,
   "id": "8393a33c-b309-49e7-9f1f-5196f6778d1c",
   "metadata": {},
   "outputs": [],
   "source": [
    "targetArray = [0, 1, 1, 0]"
   ]
  },
  {
   "cell_type": "markdown",
   "id": "9c1544f7-8ed8-497f-8ec4-ce0e611b872f",
   "metadata": {},
   "source": [
    "### TargetArray"
   ]
  },
  {
   "cell_type": "code",
   "execution_count": 22,
   "id": "9d6c25d3-9b9e-4ed4-8498-0b7b5affca01",
   "metadata": {},
   "outputs": [
    {
     "data": {
      "text/plain": [
       "[0, 1, 1, 0]"
      ]
     },
     "execution_count": 22,
     "metadata": {},
     "output_type": "execute_result"
    }
   ],
   "source": [
    "targetArray"
   ]
  },
  {
   "cell_type": "code",
   "execution_count": 25,
   "id": "b44bec2e-4652-4ef2-bfcf-33aa49d499fa",
   "metadata": {},
   "outputs": [],
   "source": [
    "layer1_2Weights = np.ones((2, 2))"
   ]
  },
  {
   "cell_type": "markdown",
   "id": "b6e3e408-91fe-47bc-9e02-18cfe96981ae",
   "metadata": {},
   "source": [
    "### Layer 1-2 weights: "
   ]
  },
  {
   "cell_type": "code",
   "execution_count": 26,
   "id": "642806b7-9e91-48ba-8b1e-de130e4d4234",
   "metadata": {},
   "outputs": [
    {
     "data": {
      "text/plain": [
       "array([[1., 1.],\n",
       "       [1., 1.]])"
      ]
     },
     "execution_count": 26,
     "metadata": {},
     "output_type": "execute_result"
    }
   ],
   "source": [
    "layer1_2Weights"
   ]
  },
  {
   "cell_type": "code",
   "execution_count": 36,
   "id": "9aa3f578-d3f6-42b7-b222-5917f439b0a2",
   "metadata": {},
   "outputs": [],
   "source": [
    "layer2_ip = np.dot(np.array(np.transpose(inputArray[0])), layer1_2Weights)"
   ]
  },
  {
   "cell_type": "markdown",
   "id": "646af73a-5f13-4b2d-b6ba-2bfe947caf95",
   "metadata": {},
   "source": [
    "### Layer 2-3 weights:"
   ]
  },
  {
   "cell_type": "code",
   "execution_count": 37,
   "id": "1b9e1bff-b095-4d8e-bd37-b80995283e6b",
   "metadata": {},
   "outputs": [],
   "source": [
    "layer2_3Weights = np.ones((1, 2))"
   ]
  },
  {
   "cell_type": "code",
   "execution_count": 38,
   "id": "696f5053-2fbb-4a87-a321-3f86d0ad6ea9",
   "metadata": {},
   "outputs": [
    {
     "data": {
      "text/plain": [
       "array([[1., 1.]])"
      ]
     },
     "execution_count": 38,
     "metadata": {},
     "output_type": "execute_result"
    }
   ],
   "source": [
    "layer2_3Weights"
   ]
  },
  {
   "cell_type": "code",
   "execution_count": null,
   "id": "950091ff-7981-4e45-b78a-e5124533f670",
   "metadata": {},
   "outputs": [],
   "source": [
    "layer3_ip = np.dot(layer2_ip"
   ]
  }
 ],
 "metadata": {
  "kernelspec": {
   "display_name": "Python 3 (ipykernel)",
   "language": "python",
   "name": "python3"
  },
  "language_info": {
   "codemirror_mode": {
    "name": "ipython",
    "version": 3
   },
   "file_extension": ".py",
   "mimetype": "text/x-python",
   "name": "python",
   "nbconvert_exporter": "python",
   "pygments_lexer": "ipython3",
   "version": "3.12.4"
  }
 },
 "nbformat": 4,
 "nbformat_minor": 5
}
