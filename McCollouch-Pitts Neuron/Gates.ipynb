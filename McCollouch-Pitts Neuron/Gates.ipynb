{
 "cells": [
  {
   "cell_type": "code",
   "execution_count": 3,
   "id": "ae4a2032-4404-422f-a939-f492201a9099",
   "metadata": {},
   "outputs": [],
   "source": [
    "import numpy as np"
   ]
  },
  {
   "cell_type": "code",
   "execution_count": 4,
   "id": "dfafbc5a-bca2-402a-baa8-038c0c2dbad3",
   "metadata": {},
   "outputs": [],
   "source": [
    "input_array = np.array([[0, 0], [0, 1], [1, 0], [1, 1]])"
   ]
  },
  {
   "cell_type": "markdown",
   "id": "c36d0d56-010e-4c61-90f0-6da5d2504a9a",
   "metadata": {},
   "source": [
    "# AND Gate"
   ]
  },
  {
   "cell_type": "markdown",
   "id": "9cc642cd-bdf1-4f70-bd2f-f6c44869b43c",
   "metadata": {},
   "source": [
    "#### input array"
   ]
  },
  {
   "cell_type": "code",
   "execution_count": 5,
   "id": "19ffbe46-a5b9-4b82-9bf4-70f2c36a6668",
   "metadata": {},
   "outputs": [
    {
     "data": {
      "text/plain": [
       "array([[0, 0],\n",
       "       [0, 1],\n",
       "       [1, 0],\n",
       "       [1, 1]])"
      ]
     },
     "execution_count": 5,
     "metadata": {},
     "output_type": "execute_result"
    }
   ],
   "source": [
    "input_array"
   ]
  },
  {
   "cell_type": "code",
   "execution_count": 14,
   "id": "bd79248c-3ad3-49bc-ad58-6d9aa10a9401",
   "metadata": {},
   "outputs": [],
   "source": [
    "target_array = np.array([0, 0, 0, 1])"
   ]
  },
  {
   "cell_type": "markdown",
   "id": "fca7b7fd-1564-4ec1-ba23-c26bc256a2f7",
   "metadata": {},
   "source": [
    "#### target array"
   ]
  },
  {
   "cell_type": "code",
   "execution_count": 15,
   "id": "d1186ad3-a2b7-403d-9225-0b6c34f68ff8",
   "metadata": {},
   "outputs": [
    {
     "data": {
      "text/plain": [
       "array([0, 0, 0, 1])"
      ]
     },
     "execution_count": 15,
     "metadata": {},
     "output_type": "execute_result"
    }
   ],
   "source": [
    "target_array"
   ]
  },
  {
   "cell_type": "code",
   "execution_count": 16,
   "id": "ec2b0782-1dcd-4298-b99e-0841b78b9242",
   "metadata": {},
   "outputs": [],
   "source": [
    "weights = np.ones((2))"
   ]
  },
  {
   "cell_type": "markdown",
   "id": "34cffd37-166a-49d8-b169-e1b728a37179",
   "metadata": {},
   "source": [
    "#### weights"
   ]
  },
  {
   "cell_type": "code",
   "execution_count": 17,
   "id": "a906f5fb-c607-4cc6-bd73-42d53712e20e",
   "metadata": {},
   "outputs": [
    {
     "data": {
      "text/plain": [
       "array([1., 1.])"
      ]
     },
     "execution_count": 17,
     "metadata": {},
     "output_type": "execute_result"
    }
   ],
   "source": [
    "weights"
   ]
  },
  {
   "cell_type": "code",
   "execution_count": null,
   "id": "9b4b0b06-dd5b-4016-86d7-eabd8fd442d6",
   "metadata": {},
   "outputs": [],
   "source": [
    "output_array = []"
   ]
  },
  {
   "cell_type": "code",
   "execution_count": 31,
   "id": "78bd9fd5-3a17-441e-8ee3-8b9266d5eafa",
   "metadata": {},
   "outputs": [
    {
     "name": "stdout",
     "output_type": "stream",
     "text": [
      "<class 'float'>\n",
      "<class 'float'>\n",
      "<class 'float'>\n",
      "<class 'float'>\n"
     ]
    }
   ],
   "source": [
    "for vector in input_array:\n",
    "    print(type(np.dot(vector, weights).tolist()))"
   ]
  },
  {
   "cell_type": "code",
   "execution_count": null,
   "id": "eca60773-d544-4828-a287-9921284cc8e3",
   "metadata": {},
   "outputs": [],
   "source": []
  }
 ],
 "metadata": {
  "kernelspec": {
   "display_name": "Python 3 (ipykernel)",
   "language": "python",
   "name": "python3"
  },
  "language_info": {
   "codemirror_mode": {
    "name": "ipython",
    "version": 3
   },
   "file_extension": ".py",
   "mimetype": "text/x-python",
   "name": "python",
   "nbconvert_exporter": "python",
   "pygments_lexer": "ipython3",
   "version": "3.12.4"
  }
 },
 "nbformat": 4,
 "nbformat_minor": 5
}
