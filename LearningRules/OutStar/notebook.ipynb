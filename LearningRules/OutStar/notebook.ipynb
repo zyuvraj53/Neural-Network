{
 "cells": [
  {
   "cell_type": "code",
   "execution_count": 1,
   "metadata": {},
   "outputs": [],
   "source": [
    "import numpy as np\n",
    "import random"
   ]
  },
  {
   "cell_type": "code",
   "execution_count": 11,
   "metadata": {},
   "outputs": [
    {
     "name": "stdout",
     "output_type": "stream",
     "text": [
      "Trained weights: [0.35817909 0.35610663]\n",
      "Testing the trained AND gate:\n",
      "Input: [0 0] Predicted: 0  Target: 0\n",
      "Input: [0 1] Predicted: 0  Target: 0\n",
      "Input: [1 0] Predicted: 0  Target: 0\n",
      "Input: [1 1] Predicted: 1  Target: 1\n"
     ]
    }
   ],
   "source": [
    "alpha = 0.5  \n",
    "epochs = 50       \n",
    "\n",
    "and_gate = np.array([[0, 0],\n",
    "                  [0, 1],\n",
    "                  [1, 0],\n",
    "                  [1, 1]])\n",
    "\n",
    "targets = np.array([0, 0, 0, 1])\n",
    "\n",
    "weights = np.random.rand(2)\n",
    "\n",
    "for epoch in range(epochs):\n",
    "    for i in range(len(inputs)):\n",
    "      \n",
    "        output = np.dot(and_gate[i], weights)\n",
    "        \n",
    "        error = targets[i] - output\n",
    "        \n",
    "        weights += learning_rate * error * inputs[i]\n",
    "\n",
    "def predict(input_data):\n",
    "    output = np.dot(and_gate, weights)\n",
    "    return 1 if output >= 0.5 else 0\n",
    "\n",
    "# Print results\n",
    "print(\"Trained weights:\", weights)\n",
    "print(\"Testing the trained AND gate:\")\n",
    "\n",
    "for and_gate, target in zip(and_gate, targets):\n",
    "    print(\"Input:\", and_gate, \"Predicted:\", predict(and_gate),\" Target:\", target)\n"
   ]
  },
  {
   "cell_type": "code",
   "execution_count": null,
   "metadata": {},
   "outputs": [],
   "source": []
  }
 ],
 "metadata": {
  "kernelspec": {
   "display_name": "base",
   "language": "python",
   "name": "python3"
  },
  "language_info": {
   "codemirror_mode": {
    "name": "ipython",
    "version": 3
   },
   "file_extension": ".py",
   "mimetype": "text/x-python",
   "name": "python",
   "nbconvert_exporter": "python",
   "pygments_lexer": "ipython3",
   "version": "3.12.4"
  }
 },
 "nbformat": 4,
 "nbformat_minor": 2
}
