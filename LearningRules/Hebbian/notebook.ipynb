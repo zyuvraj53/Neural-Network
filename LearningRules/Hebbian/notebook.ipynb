{
 "cells": [
  {
   "cell_type": "code",
   "execution_count": 4,
   "metadata": {},
   "outputs": [
    {
     "name": "stdout",
     "output_type": "stream",
     "text": [
      "Weights: [-0.03087185 -0.11990368]\n",
      "Bias: [0.02472489]\n",
      "Input: (0, 0) -> Output: 1\n",
      "Input: (0, 1) -> Output: 0\n",
      "Input: (1, 0) -> Output: 0\n",
      "Input: (1, 1) -> Output: 0\n"
     ]
    }
   ],
   "source": [
    "import numpy as np\n",
    "\n",
    "# NOR Gate\n",
    "inputs = np.array([[0, 0], [0, 1], [1, 0], [1, 1]])\n",
    "\n",
    "outputs = np.array([1, 0, 0, 0])\n",
    "\n",
    "weights = np.random.rand(2)\n",
    "bias = np.random.rand(1)\n",
    "\n",
    "learning_rate = 0.1\n",
    "\n",
    "epochs = 1000\n",
    "\n",
    "for epoch in range(epochs):\n",
    "    for x, target in zip(inputs, outputs):\n",
    "        weighted_sum = np.dot(x, weights) + bias\n",
    "\n",
    "        output = 1 if weighted_sum > 0 else 0\n",
    "\n",
    "        if output != target:\n",
    "            error = target - output\n",
    "            weights += learning_rate * error * x\n",
    "            bias += learning_rate * error\n",
    "\n",
    "print(\"Weights:\", weights)\n",
    "print(\"Bias:\", bias)\n",
    "\n",
    "\n",
    "def nor_gate(x1, x2):\n",
    "    weighted_sum = np.dot([x1, x2], weights) + bias\n",
    "    return 1 if weighted_sum > 0 else 0\n",
    "\n",
    "\n",
    "for x1, x2 in inputs:\n",
    "    print(f\"Input: ({x1}, {x2}) -> Output: {nor_gate(x1, x2)}\")\n"
   ]
  }
 ],
 "metadata": {
  "kernelspec": {
   "display_name": ".venv",
   "language": "python",
   "name": "python3"
  },
  "language_info": {
   "codemirror_mode": {
    "name": "ipython",
    "version": 3
   },
   "file_extension": ".py",
   "mimetype": "text/x-python",
   "name": "python",
   "nbconvert_exporter": "python",
   "pygments_lexer": "ipython3",
   "version": "3.11.7"
  }
 },
 "nbformat": 4,
 "nbformat_minor": 2
}
