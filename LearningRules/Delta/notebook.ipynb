{
 "cells": [
  {
   "cell_type": "code",
   "execution_count": 6,
   "metadata": {},
   "outputs": [
    {
     "name": "stdout",
     "output_type": "stream",
     "text": [
      "Weights: [0.49222951 0.10255135]\n",
      "Bias: [-0.02569424]\n",
      "Input: [0 0], Predicted output: 0\n",
      "Input: [0 1], Predicted output: 1\n",
      "Input: [1 0], Predicted output: 1\n",
      "Input: [1 1], Predicted output: 1\n"
     ]
    }
   ],
   "source": [
    "import numpy as np\n",
    "\n",
    "# OR Gate\n",
    "input = np.array([[0, 0], [0, 1], [1, 0], [1, 1]])\n",
    "output = np.array([0, 1, 1, 1])\n",
    "\n",
    "weights = np.random.rand(2)\n",
    "bias = np.random.rand(1)\n",
    "\n",
    "learning_rate = 0.1\n",
    "\n",
    "epochs = 1000\n",
    "\n",
    "\n",
    "def step_function(input):\n",
    "    return 1 if input > 0 else 0\n",
    "\n",
    "\n",
    "for epoch in range(epochs):\n",
    "    for i in range(len(input)):\n",
    "        linear_output = np.dot(input[i], weights) + bias\n",
    "        prediction = step_function(linear_output)\n",
    "        error = output[i] - prediction\n",
    "\n",
    "        weights += learning_rate * error * input[i]\n",
    "        bias += learning_rate * error\n",
    "\n",
    "print(f\"Weights: {weights}\")\n",
    "print(f\"Bias: {bias}\")\n",
    "\n",
    "\n",
    "def predict(input):\n",
    "    return step_function(np.dot(input, weights) + bias)\n",
    "\n",
    "\n",
    "for inputi in input:\n",
    "    print(f\"Input: {inputi}, Predicted output: {predict(inputi)}\")\n"
   ]
  }
 ],
 "metadata": {
  "kernelspec": {
   "display_name": ".venv",
   "language": "python",
   "name": "python3"
  },
  "language_info": {
   "codemirror_mode": {
    "name": "ipython",
    "version": 3
   },
   "file_extension": ".py",
   "mimetype": "text/x-python",
   "name": "python",
   "nbconvert_exporter": "python",
   "pygments_lexer": "ipython3",
   "version": "3.11.7"
  }
 },
 "nbformat": 4,
 "nbformat_minor": 2
}
