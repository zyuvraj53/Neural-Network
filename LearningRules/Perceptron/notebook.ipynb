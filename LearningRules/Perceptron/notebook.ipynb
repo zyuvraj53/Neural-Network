{
 "cells": [
  {
   "cell_type": "code",
   "execution_count": 22,
   "metadata": {},
   "outputs": [],
   "source": [
    "import numpy as np\n",
    "import random"
   ]
  },
  {
   "cell_type": "code",
   "execution_count": 23,
   "metadata": {},
   "outputs": [],
   "source": [
    "and_gate = [\n",
    "  [0, 0, 0],\n",
    "  [0, 1, 0],\n",
    "  [1, 0, 0],\n",
    "  [1, 1, 1]\n",
    "];\n",
    "\n"
   ]
  },
  {
   "cell_type": "code",
   "execution_count": 38,
   "metadata": {},
   "outputs": [
    {
     "name": "stdout",
     "output_type": "stream",
     "text": [
      "weight 1:  0.30582125690198664 weight 2: 1.4971496889964904 \n",
      "\n"
     ]
    }
   ],
   "source": [
    "w1, w2 = random.random(), random.random()\n",
    "\n",
    "alpha = 0.5\n",
    "\n",
    "for i in range(0, 4):\n",
    "  x1 = and_gate[i][0];\n",
    "  x2 = and_gate[i][1];\n",
    "  \n",
    "  n1 = x1 * w1 + b; # linear combination\n",
    "  n2 = x2 * w2 + b; # linear combination\n",
    "  \n",
    "  ti = n1 + n2; # training input\n",
    "  \n",
    "  ej = ti - and_gate[i][2]; # learning signal\n",
    "  \n",
    "  del_w1 = alpha * x1 * ej;\n",
    "  del_w2 = alpha * x2 * ej;\n",
    "  \n",
    "  w1 = w1 + del_w1\n",
    "  w2 = w2 + del_w2\n",
    "  \n",
    "\n",
    "print(\"weight 1: \", w1,\"weight 2:\", w2, \"\\n\")"
   ]
  },
  {
   "cell_type": "code",
   "execution_count": 39,
   "metadata": {},
   "outputs": [
    {
     "name": "stdout",
     "output_type": "stream",
     "text": [
      "0.0\n",
      "1.4971496889964904\n",
      "0.30582125690198664\n",
      "1.802970945898477\n"
     ]
    }
   ],
   "source": [
    "for i in range(0, 4):\n",
    "  print(w1 * and_gate[i][0] + w2 * and_gate[i][1]);"
   ]
  },
  {
   "cell_type": "code",
   "execution_count": 40,
   "metadata": {},
   "outputs": [],
   "source": [
    "# Let the activation function be hardlim\n",
    "\n",
    "def hardlim(x):\n",
    "  if x < 1.5:\n",
    "    return 0\n",
    "  else:\n",
    "    return 1"
   ]
  },
  {
   "cell_type": "code",
   "execution_count": 41,
   "metadata": {},
   "outputs": [
    {
     "name": "stdout",
     "output_type": "stream",
     "text": [
      "0\n",
      "0\n",
      "0\n",
      "1\n"
     ]
    }
   ],
   "source": [
    "for i in range(0, 4):\n",
    "  print(hardlim(w1 * and_gate[i][0] + w2 * and_gate[i][1]));"
   ]
  },
  {
   "cell_type": "code",
   "execution_count": null,
   "metadata": {},
   "outputs": [],
   "source": []
  }
 ],
 "metadata": {
  "kernelspec": {
   "display_name": "base",
   "language": "python",
   "name": "python3"
  },
  "language_info": {
   "codemirror_mode": {
    "name": "ipython",
    "version": 3
   },
   "file_extension": ".py",
   "mimetype": "text/x-python",
   "name": "python",
   "nbconvert_exporter": "python",
   "pygments_lexer": "ipython3",
   "version": "3.12.4"
  }
 },
 "nbformat": 4,
 "nbformat_minor": 2
}
